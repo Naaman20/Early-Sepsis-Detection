{
 "cells": [
  {
   "cell_type": "code",
   "execution_count": 1,
   "metadata": {},
   "outputs": [
    {
     "name": "stderr",
     "output_type": "stream",
     "text": [
      "C:\\Users\\SURAJ KUMAR\\AppData\\Local\\conda\\conda\\envs\\PythonCPU\\lib\\site-packages\\h5py\\__init__.py:36: FutureWarning: Conversion of the second argument of issubdtype from `float` to `np.floating` is deprecated. In future, it will be treated as `np.float64 == np.dtype(float).type`.\n",
      "  from ._conv import register_converters as _register_converters\n",
      "Using TensorFlow backend.\n"
     ]
    }
   ],
   "source": [
    "%matplotlib inline\n",
    "import pandas as pd\n",
    "import numpy as np\n",
    "import os\n",
    "from Function import fillNANValue,loadfilesnew,result,plot_feature_importances,Grid_result,pca\n",
    "import matplotlib.pyplot as plt\n",
    "import random\n",
    "import seaborn as sns\n",
    "from sklearn.preprocessing import StandardScaler, MinMaxScaler\n",
    "from imblearn.ensemble import BalancedBaggingClassifier"
   ]
  },
  {
   "cell_type": "code",
   "execution_count": 2,
   "metadata": {
    "collapsed": true,
    "jupyter": {
     "outputs_hidden": true,
     "source_hidden": true
    }
   },
   "outputs": [
    {
     "name": "stdout",
     "output_type": "stream",
     "text": [
      "Done 500 Done 1000 Done 1500 Done 2000 Done 2500 Done 500 Done 1000 Done 1500 Done 2000 Done 2500 Done 3000 Done 3500 Done 4000 Done 4500 Done 5000 Done 5500 Done 6000 Done 6500 Done 7000 Done 7500 Done 8000 Done 8500 Done 9000 Done 9500 Done 10000 Done 10500 Done 11000 Done 11500 Done 12000 Done 12500 Done 13000 Done 13500 Done 14000 Done 14500 Done 15000 Done 15500 Done 16000 Done 16500 Done 17000 Done 17500 (99938, 41) (690277, 41)\n"
     ]
    }
   ],
   "source": [
    "# loading train & test data (part 1)\n",
    "first_train_file_path1 = os.path.join(\"H:\\\\Project\\\\AI Projects\\\\Sepcis detection\\\\dataset\\\\training\",\"p000001.psv\")\n",
    "first_train_file_df1 = pd.read_csv(first_train_file_path1,sep='|')\n",
    "initial_df_train1 = fillNANValue(first_train_file_df1)\n",
    "path1 = \"H:\\\\Project\\\\AI Projects\\\\Sepcis detection\\\\dataset\\\\training\"\n",
    "file_in_dir = os.listdir(path1)\n",
    "first_test_file_path1 = os.path.join(\"H:\\\\Project\\\\AI Projects\\\\Sepcis detection\\\\dataset\\\\training\",file_in_dir[-1])\n",
    "first_test_file_df1 = pd.read_csv(first_test_file_path1,sep='|')\n",
    "initial_df_test1 = fillNANValue(first_test_file_df1)\n",
    "file_in_dir = file_in_dir[1:-1]\n",
    "file_in_dir = random.sample(file_in_dir, len(file_in_dir))\n",
    "train_files1 = file_in_dir[:int(len(file_in_dir)*0.125)]\n",
    "test_files1 = file_in_dir[int(len(file_in_dir)*0.125):]\n",
    "\n",
    "train_data1 = loadfilesnew(path1, train_files1, initial_df_train1)\n",
    "test_data1 = loadfilesnew(path1, test_files1, initial_df_test1)\n",
    "\n",
    "print(train_data1.shape,test_data1.shape)"
   ]
  },
  {
   "cell_type": "code",
   "execution_count": 5,
   "metadata": {
    "jupyter": {
     "source_hidden": true
    }
   },
   "outputs": [],
   "source": [
    "# saving data to train & test\n",
    "train_data1.to_csv('Test_data.csv',header = True, index = False, mode = 'w')\n",
    "test_data1.to_csv('Train_data.csv',header = True, index = False, mode = 'w')"
   ]
  },
  {
   "cell_type": "code",
   "execution_count": 16,
   "metadata": {
    "collapsed": true,
    "jupyter": {
     "outputs_hidden": true,
     "source_hidden": true
    }
   },
   "outputs": [
    {
     "name": "stdout",
     "output_type": "stream",
     "text": [
      "2346 97592 sepsis =  2.347455422361864\n"
     ]
    },
    {
     "data": {
      "text/plain": [
       "<matplotlib.axes._subplots.AxesSubplot at 0x192005154a8>"
      ]
     },
     "execution_count": 16,
     "metadata": {},
     "output_type": "execute_result"
    },
    {
     "data": {
      "image/png": "[encoded data removed]",
      "text/plain": [
       "<Figure size 432x288 with 1 Axes>"
      ]
     },
     "metadata": {
      "needs_background": "light"
     },
     "output_type": "display_data"
    }
   ],
   "source": [
    "# plot1\n",
    "count1 = (train_data1[\"SepsisLabel\"] == 1).sum()\n",
    "count2 = (train_data1[\"SepsisLabel\"] == 0).sum()\n",
    "count = [count2 ,count1]\n",
    "class_name = ['Not_Sepsis' , 'Sepsis']\n",
    "print(count1, count2, 'sepsis = ', (count1/(count1+count2))*100)\n",
    "sns.barplot(x = class_name , y = count , linewidth = 2.5 , errcolor = '.2' , edgecolor = '.2')\n"
   ]
  },
  {
   "cell_type": "code",
   "execution_count": 17,
   "metadata": {
    "collapsed": true,
    "jupyter": {
     "outputs_hidden": true,
     "source_hidden": true
    }
   },
   "outputs": [
    {
     "name": "stdout",
     "output_type": "stream",
     "text": [
      "14790 675487 sepsis =  2.142618108382577\n"
     ]
    },
    {
     "data": {
      "text/plain": [
       "<matplotlib.axes._subplots.AxesSubplot at 0x19201016860>"
      ]
     },
     "execution_count": 17,
     "metadata": {},
     "output_type": "execute_result"
    },
    {
     "data": {
      "image/png": "[encoded data removed]",
      "text/plain": [
       "<Figure size 432x288 with 1 Axes>"
      ]
     },
     "metadata": {
      "needs_background": "light"
     },
     "output_type": "display_data"
    }
   ],
   "source": [
    "# plot 2\n",
    "count3 = (test_data1[\"SepsisLabel\"] == 1).sum()\n",
    "count4 = (test_data1[\"SepsisLabel\"] == 0).sum()\n",
    "count = [count4, count3]\n",
    "class_name = ['Not_Sepsis' , 'Sepsis']\n",
    "print(count3, count4, 'sepsis = ', (count3/(count3+count4))*100)\n",
    "sns.barplot(x = class_name , y = count , linewidth = 2.5 , errcolor = '.2' , edgecolor = '.2')"
   ]
  },
  {
   "cell_type": "code",
   "execution_count": 20,
   "metadata": {
    "collapsed": true,
    "jupyter": {
     "outputs_hidden": true,
     "source_hidden": true
    }
   },
   "outputs": [
    {
     "name": "stdout",
     "output_type": "stream",
     "text": [
      "Done 500 Done 1000 Done 1500 Done 2000 Done 2500 Done 3000 Done 3500 Done 4000 Done 4500 Done 5000 Done 5500 Done 6000 Done 6500 Done 7000 Done 7500 Done 8000 Done 8500 Done 9000 Done 9500 Done 10000 Done 10500 Done 11000 Done 11500 Done 12000 Done 12500 Done 13000 Done 13500 Done 14000 Done 14500 Done 15000 Done 15500 Done 16000 Done 16500 Done 17000 Done 500 Done 1000 Done 1500 Done 2000 Done 2500 (666899, 41) (95096, 41)\n"
     ]
    }
   ],
   "source": [
    "# loading train & test data (part 2)\n",
    "first_train_file_path2 = os.path.join(\"H:\\\\Project\\\\AI Projects\\\\Sepcis detection\\\\dataset\\\\training_setB\",\"p100001.psv\")\n",
    "first_train_file_df2 = pd.read_csv(first_train_file_path2,sep='|')\n",
    "initial_df_train2 = fillNANValue(first_train_file_df2)\n",
    "path2 = \"H:\\\\Project\\\\AI Projects\\\\Sepcis detection\\\\dataset\\\\training_setB\"\n",
    "file_in_dir2 = os.listdir(path2)\n",
    "first_test_file_path2 = os.path.join(\"H:\\\\Project\\\\AI Projects\\\\Sepcis detection\\\\dataset\\\\training_setB\",file_in_dir2[-1])\n",
    "first_test_file_df2 = pd.read_csv(first_test_file_path2,sep='|')\n",
    "initial_df_test2 = fillNANValue(first_test_file_df2)\n",
    "file_in_dir2 = file_in_dir2[1:-1]\n",
    "file_in_dir2 = random.sample(file_in_dir2, len(file_in_dir2))\n",
    "train_files2 = file_in_dir2[:int(len(file_in_dir2)*0.875)]\n",
    "test_files2 = file_in_dir2[int(len(file_in_dir2)*0.875):]\n",
    "\n",
    "train_data2 = loadfilesnew(path2, train_files2, initial_df_train2)\n",
    "test_data2 = loadfilesnew(path2, test_files2, initial_df_test2)\n",
    "\n",
    "print(train_data2.shape,test_data2.shape)"
   ]
  },
  {
   "cell_type": "code",
   "execution_count": 23,
   "metadata": {
    "jupyter": {
     "source_hidden": true
    }
   },
   "outputs": [],
   "source": [
    "# save data to  train & test file\n",
    "test_data2.to_csv('Test_data.csv',header = False, index = False, mode = 'a')\n",
    "train_data2.to_csv('Train_data.csv',header = False, index = False, mode = 'a')"
   ]
  },
  {
   "cell_type": "code",
   "execution_count": 22,
   "metadata": {
    "collapsed": true,
    "jupyter": {
     "outputs_hidden": true,
     "source_hidden": true
    }
   },
   "outputs": [
    {
     "name": "stdout",
     "output_type": "stream",
     "text": [
      "9487 657412 sepsis =  1.4225542398474131\n"
     ]
    },
    {
     "data": {
      "text/plain": [
       "<matplotlib.axes._subplots.AxesSubplot at 0x19201078048>"
      ]
     },
     "execution_count": 22,
     "metadata": {},
     "output_type": "execute_result"
    },
    {
     "data": {
      "image/png": "[encoded data removed]",
      "text/plain": [
       "<Figure size 432x288 with 1 Axes>"
      ]
     },
     "metadata": {
      "needs_background": "light"
     },
     "output_type": "display_data"
    }
   ],
   "source": [
    "# plot 3\n",
    "count1 = (train_data2[\"SepsisLabel\"] == 1).sum()\n",
    "count2 = (train_data2[\"SepsisLabel\"] == 0).sum()\n",
    "count = [count2 ,count1]\n",
    "class_name = ['Not_Sepsis' , 'Sepsis']\n",
    "print(count1, count2, 'sepsis = ', (count1/(count1+count2))*100)\n",
    "sns.barplot(x = class_name , y = count , linewidth = 2.5 , errcolor = '.2' , edgecolor = '.2')"
   ]
  },
  {
   "cell_type": "code",
   "execution_count": 21,
   "metadata": {
    "collapsed": true,
    "jupyter": {
     "outputs_hidden": true,
     "source_hidden": true
    }
   },
   "outputs": [
    {
     "name": "stdout",
     "output_type": "stream",
     "text": [
      "1293 93803 sepsis =  1.3596786405316732\n"
     ]
    },
    {
     "data": {
      "text/plain": [
       "<matplotlib.axes._subplots.AxesSubplot at 0x192010781d0>"
      ]
     },
     "execution_count": 21,
     "metadata": {},
     "output_type": "execute_result"
    },
    {
     "data": {
      "image/png": "[encoded data removed]",
      "text/plain": [
       "<Figure size 432x288 with 1 Axes>"
      ]
     },
     "metadata": {
      "needs_background": "light"
     },
     "output_type": "display_data"
    }
   ],
   "source": [
    "# plot 4\n",
    "count3 = (test_data2[\"SepsisLabel\"] == 1).sum()\n",
    "count4 = (test_data2[\"SepsisLabel\"] == 0).sum()\n",
    "count = [count4, count3]\n",
    "class_name = ['Not_Sepsis' , 'Sepsis']\n",
    "print(count3, count4, 'sepsis = ', (count3/(count3+count4))*100)\n",
    "sns.barplot(x = class_name , y = count , linewidth = 2.5 , errcolor = '.2' , edgecolor = '.2')"
   ]
  },
  {
   "cell_type": "markdown",
   "metadata": {},
   "source": [
    "# List of different dataset"
   ]
  },
  {
   "cell_type": "markdown",
   "metadata": {},
   "source": [
    "1. All raw data\n",
    "2. Raw data with selected feature\n",
    "3. All data with some feature changed to categorical\n",
    "4. Categorical data with some selected feature"
   ]
  },
  {
   "cell_type": "code",
   "execution_count": 19,
   "metadata": {},
   "outputs": [],
   "source": [
    "# load with non-Nan valued data\n",
    "path = 'H:\\\\Project\\\\AI Projects\\\\Sepsis Detection New' \n",
    "train_data = pd.read_csv(os.path.join(path, 'Train_data.csv'))\n",
    "test_data = pd.read_csv(os.path.join(path, 'Test_data.csv'))\n",
    "test_data.dropna(inplace = True)\n",
    "train_data.dropna(inplace = True)\n",
    "train_X, train_y = train_data.iloc[:,0:-1], train_data.iloc[:,-1]\n",
    "test_X, test_y = test_data.iloc[:,0:-1], test_data.iloc[:,-1]"
   ]
  },
  {
   "cell_type": "code",
   "execution_count": 6,
   "metadata": {},
   "outputs": [
    {
     "name": "stdout",
     "output_type": "stream",
     "text": [
      "24277 1332809 sepsis =  1.7889065247154563  ,  3639 191335 sepsis =  1.866402699847159\n"
     ]
    },
    {
     "data": {
      "text/plain": [
       "<matplotlib.axes._subplots.AxesSubplot at 0x282a8036208>"
      ]
     },
     "execution_count": 6,
     "metadata": {},
     "output_type": "execute_result"
    },
    {
     "data": {
      "image/png": "[encoded data removed]",
      "text/plain": [
       "<Figure size 432x288 with 1 Axes>"
      ]
     },
     "metadata": {
      "needs_background": "light"
     },
     "output_type": "display_data"
    }
   ],
   "source": [
    "# plot 4\n",
    "count1 = (train_data[\"SepsisLabel\"] == 1).sum()\n",
    "count2 = (train_data[\"SepsisLabel\"] == 0).sum()\n",
    "count3 = (test_data[\"SepsisLabel\"] == 1).sum()\n",
    "count4 = (test_data[\"SepsisLabel\"] == 0).sum()\n",
    "count = [count1, count2, count3, count4]\n",
    "class_name = ['Sepsis _train', 'Not_Sepsis_train', 'Sepsis_test', 'Not_Sepsis_test']\n",
    "print(count1, count2, 'sepsis = ', (count1/(count1+count2))*100, ' , ', count3, count4, 'sepsis = ', (count3/(count3+count4))*100)\n",
    "sns.barplot(x = class_name , y = count , linewidth = 2.5 , errcolor = '.2' , edgecolor = '.2')"
   ]
  },
  {
   "cell_type": "markdown",
   "metadata": {},
   "source": [
    "##                                   simple raw data"
   ]
  },
  {
   "cell_type": "code",
   "execution_count": 7,
   "metadata": {},
   "outputs": [],
   "source": [
    "# simple all raw data\n",
    "std = StandardScaler()\n",
    "train_X_scaled = std.fit_transform(train_X)\n",
    "test_X_scaled = std.transform(test_X)"
   ]
  },
  {
   "cell_type": "code",
   "execution_count": 33,
   "metadata": {},
   "outputs": [
    {
     "data": {
      "text/plain": [
       "(194973, 41)"
      ]
     },
     "execution_count": 33,
     "metadata": {},
     "output_type": "execute_result"
    }
   ],
   "source": [
    "test_y.shape"
   ]
  },
  {
   "cell_type": "markdown",
   "metadata": {},
   "source": [
    "                                              Decision Tree"
   ]
  },
  {
   "cell_type": "code",
   "execution_count": 37,
   "metadata": {
    "collapsed": true,
    "jupyter": {
     "outputs_hidden": true
    }
   },
   "outputs": [
    {
     "name": "stdout",
     "output_type": "stream",
     "text": [
      "Confusion matrix\n",
      " [[186321   5014]\n",
      " [  3309    330]]\n",
      "Accuracy on test set 0.9573122570188846\n",
      "Precision on test set 0.061751497005988025\n",
      "Recall on test set 0.09068425391591096\n",
      "F1 score on test set 0.07347211399309808\n",
      "Classification report on test\n",
      "\n",
      "              precision    recall  f1-score   support\n",
      "\n",
      "  not sepsis       0.98      0.97      0.98    191335\n",
      "      sepsis       0.06      0.09      0.07      3639\n",
      "\n",
      "    accuracy                           0.96    194974\n",
      "   macro avg       0.52      0.53      0.53    194974\n",
      "weighted avg       0.97      0.96      0.96    194974\n",
      "\n",
      "Confusion matrix on train set\n",
      " [[1332809       0]\n",
      " [      2   24275]]\n",
      "Accuracy on train set 0.9999985262540473\n",
      "Precision on train set 1.0\n",
      "Recall on train set 0.9999176174980434\n",
      "F1 score on train set 0.9999588070522327\n",
      "Classification report on train\n",
      "\n",
      "              precision    recall  f1-score   support\n",
      "\n",
      "  not sepsis       1.00      1.00      1.00   1332809\n",
      "      sepsis       1.00      1.00      1.00     24277\n",
      "\n",
      "    accuracy                           1.00   1357086\n",
      "   macro avg       1.00      1.00      1.00   1357086\n",
      "weighted avg       1.00      1.00      1.00   1357086\n",
      "\n"
     ]
    }
   ],
   "source": [
    "# decision tree classifier\n",
    "from sklearn.tree import DecisionTreeClassifier\n",
    "clf_DTC = DecisionTreeClassifier()\n",
    "clf_DTC = clf_DTC.fit(train_X_scaled,train_y)\n",
    "result(clf_DTC,train_X_scaled,train_y,test_X_scaled,test_y)\n",
    "\n",
    "# OUTPUT\n",
    "# Accuracy on test set 0.9573122570188846\n",
    "# Precision on test set 0.061751497005988025\n",
    "# Recall on test set 0.09068425391591096\n",
    "# F1 score on test set 0.07347211399309808"
   ]
  },
  {
   "cell_type": "markdown",
   "metadata": {},
   "source": [
    "                                        \n",
    "                                        \n",
    "                                        Logistic Regression"
   ]
  },
  {
   "cell_type": "code",
   "execution_count": 38,
   "metadata": {
    "collapsed": true,
    "jupyter": {
     "outputs_hidden": true
    }
   },
   "outputs": [
    {
     "name": "stdout",
     "output_type": "stream",
     "text": [
      "Confusion matrix\n",
      " [[191310     25]\n",
      " [  3612     27]]\n",
      "Accuracy on test set 0.9813462307794886\n",
      "Precision on test set 0.5192307692307693\n",
      "Recall on test set 0.00741962077493817\n",
      "F1 score on test set 0.014630181522622595\n",
      "Classification report on test\n",
      "\n",
      "              precision    recall  f1-score   support\n",
      "\n",
      "  not sepsis       0.98      1.00      0.99    191335\n",
      "      sepsis       0.52      0.01      0.01      3639\n",
      "\n",
      "    accuracy                           0.98    194974\n",
      "   macro avg       0.75      0.50      0.50    194974\n",
      "weighted avg       0.97      0.98      0.97    194974\n",
      "\n",
      "Confusion matrix on train set\n",
      " [[1332546     263]\n",
      " [  24189      88]]\n",
      "Accuracy on train set 0.9819819819819819\n",
      "Precision on train set 0.25071225071225073\n",
      "Recall on train set 0.0036248300860897147\n",
      "F1 score on train set 0.00714633750203021\n",
      "Classification report on train\n",
      "\n",
      "              precision    recall  f1-score   support\n",
      "\n",
      "  not sepsis       0.98      1.00      0.99   1332809\n",
      "      sepsis       0.25      0.00      0.01     24277\n",
      "\n",
      "    accuracy                           0.98   1357086\n",
      "   macro avg       0.62      0.50      0.50   1357086\n",
      "weighted avg       0.97      0.98      0.97   1357086\n",
      "\n"
     ]
    }
   ],
   "source": [
    "# Logistic regression\n",
    "from sklearn.linear_model import LogisticRegression\n",
    "lr = LogisticRegression()\n",
    "lr = lr.fit(train_X_scaled,train_y)\n",
    "result(lr,train_X_scaled,train_y,test_X_scaled,test_y)\n",
    "\n",
    "# OUTPUT\n",
    "# Accuracy on test set 0.9813462307794886\n",
    "# Precision on test set 0.5192307692307693\n",
    "# Recall on test set 0.00741962077493817\n",
    "# F1 score on test set 0.014630181522622595"
   ]
  },
  {
   "cell_type": "markdown",
   "metadata": {},
   "source": [
    "                                                \n",
    "                                                \n",
    "                                                \n",
    "                                                Random Forest"
   ]
  },
  {
   "cell_type": "code",
   "execution_count": 6,
   "metadata": {
    "collapsed": true,
    "jupyter": {
     "outputs_hidden": true
    }
   },
   "outputs": [
    {
     "name": "stdout",
     "output_type": "stream",
     "text": [
      "Confusion matrix\n",
      " [[191316     19]\n",
      " [  3633      6]]\n",
      "Accuracy on test set 0.9812692974447875\n",
      "Precision on test set 0.24\n",
      "Recall on test set 0.0016488046166529267\n",
      "F1 score on test set 0.0032751091703056767\n",
      "Classification report on test\n",
      "\n",
      "              precision    recall  f1-score   support\n",
      "\n",
      "  not sepsis       0.98      1.00      0.99    191335\n",
      "      sepsis       0.24      0.00      0.00      3639\n",
      "\n",
      "    accuracy                           0.98    194974\n",
      "   macro avg       0.61      0.50      0.50    194974\n",
      "weighted avg       0.97      0.98      0.97    194974\n",
      "\n",
      "Confusion matrix on train set\n",
      " [[1332809       0]\n",
      " [     16   24261]]\n",
      "Accuracy on train set 0.9999882100323781\n",
      "Precision on train set 1.0\n",
      "Recall on train set 0.9993409399843474\n",
      "F1 score on train set 0.9996703613663521\n",
      "Classification report on train\n",
      "\n",
      "              precision    recall  f1-score   support\n",
      "\n",
      "  not sepsis       1.00      1.00      1.00   1332809\n",
      "      sepsis       1.00      1.00      1.00     24277\n",
      "\n",
      "    accuracy                           1.00   1357086\n",
      "   macro avg       1.00      1.00      1.00   1357086\n",
      "weighted avg       1.00      1.00      1.00   1357086\n",
      "\n"
     ]
    }
   ],
   "source": [
    "# random forest classifier\n",
    "from sklearn.ensemble import RandomForestClassifier\n",
    "clf_RF = RandomForestClassifier()\n",
    "clf_RF = clf_RF.fit(train_X_scaled,train_y)\n",
    "result(clf_RF,train_X_scaled,train_y,test_X_scaled,test_y)\n",
    "\n",
    "# OUTPUT\n",
    "# Accuracy on test set 0.9812692974447875\n",
    "# Precision on test set 0.24\n",
    "# Recall on test set 0.0016488046166529267\n",
    "# F1 score on test set 0.0032751091703056767"
   ]
  },
  {
   "cell_type": "markdown",
   "metadata": {},
   "source": [
    "                                               Naive Bayes"
   ]
  },
  {
   "cell_type": "code",
   "execution_count": 5,
   "metadata": {
    "collapsed": true,
    "jupyter": {
     "outputs_hidden": true
    }
   },
   "outputs": [
    {
     "name": "stdout",
     "output_type": "stream",
     "text": [
      "Confusion matrix\n",
      " [[174872  16463]\n",
      " [  2871    768]]\n",
      "Accuracy on test set 0.9008380604593433\n",
      "Precision on test set 0.04457083164064767\n",
      "Recall on test set 0.2110469909315746\n",
      "F1 score on test set 0.07359846669861046\n",
      "Classification report on test\n",
      "\n",
      "              precision    recall  f1-score   support\n",
      "\n",
      "  not sepsis       0.98      0.91      0.95    191335\n",
      "      sepsis       0.04      0.21      0.07      3639\n",
      "\n",
      "    accuracy                           0.90    194974\n",
      "   macro avg       0.51      0.56      0.51    194974\n",
      "weighted avg       0.97      0.90      0.93    194974\n",
      "\n",
      "Confusion matrix on train set\n",
      " [[1216313  116496]\n",
      " [  18773    5504]]\n",
      "Accuracy on train set 0.900323929360409\n",
      "Precision on train set 0.04511475409836065\n",
      "Recall on train set 0.22671664538452033\n",
      "F1 score on train set 0.07525448293306534\n",
      "Classification report on train\n",
      "\n",
      "              precision    recall  f1-score   support\n",
      "\n",
      "  not sepsis       0.98      0.91      0.95   1332809\n",
      "      sepsis       0.05      0.23      0.08     24277\n",
      "\n",
      "    accuracy                           0.90   1357086\n",
      "   macro avg       0.51      0.57      0.51   1357086\n",
      "weighted avg       0.97      0.90      0.93   1357086\n",
      "\n"
     ]
    }
   ],
   "source": [
    "# naive bayes\n",
    "from sklearn.naive_bayes import GaussianNB\n",
    "clf_NB = GaussianNB()\n",
    "clf_NB = clf_NB.fit(train_X_scaled,train_y)\n",
    "result(clf_NB, train_X_scaled, train_y, test_X_scaled, test_y)\n",
    "\n",
    "# OUTPUT\n",
    "# Accuracy on test set 0.9008380604593433\n",
    "# Precision on test set 0.04457083164064767\n",
    "# Recall on test set 0.2110469909315746\n",
    "# F1 score on test set 0.07359846669861046\n"
   ]
  },
  {
   "cell_type": "markdown",
   "metadata": {},
   "source": [
    "                                               Gradient Boosting "
   ]
  },
  {
   "cell_type": "code",
   "execution_count": 8,
   "metadata": {
    "collapsed": true,
    "jupyter": {
     "outputs_hidden": true
    }
   },
   "outputs": [
    {
     "name": "stdout",
     "output_type": "stream",
     "text": [
      "Confusion matrix\n",
      " [[191242     93]\n",
      " [  3614     25]]\n",
      "Accuracy on test set 0.9809872085508837\n",
      "Precision on test set 0.211864406779661\n",
      "Recall on test set 0.006870019236053861\n",
      "F1 score on test set 0.013308490817141336\n",
      "Classification report on test\n",
      "\n",
      "              precision    recall  f1-score   support\n",
      "\n",
      "  not sepsis       0.98      1.00      0.99    191335\n",
      "      sepsis       0.21      0.01      0.01      3639\n",
      "\n",
      "    accuracy                           0.98    194974\n",
      "   macro avg       0.60      0.50      0.50    194974\n",
      "weighted avg       0.97      0.98      0.97    194974\n",
      "\n",
      "Confusion matrix on train set\n",
      " [[1332652     157]\n",
      " [  23930     347]]\n",
      "Accuracy on train set 0.9822509406183543\n",
      "Precision on train set 0.6884920634920635\n",
      "Recall on train set 0.014293364089467396\n",
      "F1 score on train set 0.028005326661555224\n",
      "Classification report on train\n",
      "\n",
      "              precision    recall  f1-score   support\n",
      "\n",
      "  not sepsis       0.98      1.00      0.99   1332809\n",
      "      sepsis       0.69      0.01      0.03     24277\n",
      "\n",
      "    accuracy                           0.98   1357086\n",
      "   macro avg       0.84      0.51      0.51   1357086\n",
      "weighted avg       0.98      0.98      0.97   1357086\n",
      "\n"
     ]
    }
   ],
   "source": [
    "# gradiient boostng decision tree\n",
    "from sklearn.ensemble import GradientBoostingClassifier\n",
    "clf_GBC = GradientBoostingClassifier()\n",
    "clf_GBC = clf_GBC.fit(train_X_scaled,train_y)\n",
    "result(clf_GBC, train_X_scaled, train_y, test_X_scaled, test_y)\n",
    "\n",
    "# OUTPUT\n",
    "# Accuracy on test set 0.9809872085508837\n",
    "# Precision on test set 0.211864406779661\n",
    "# Recall on test set 0.006870019236053861\n",
    "# F1 score on test set 0.013308490817141336"
   ]
  },
  {
   "cell_type": "markdown",
   "metadata": {},
   "source": [
    "### Conclusion of raw data\n",
    "on the basis of above training these model are godd for this problem \n",
    "1. Decision Tree 2. Random Forest 3. Naive Bayes \n",
    "1. Neural Network 2. SVM "
   ]
  },
  {
   "cell_type": "markdown",
   "metadata": {},
   "source": [
    "## Raw data with selected feature manually"
   ]
  },
  {
   "cell_type": "code",
   "execution_count": 9,
   "metadata": {},
   "outputs": [
    {
     "data": {
      "text/plain": [
       "Index(['HR', 'O2Sat', 'Temp', 'SBP', 'MAP', 'DBP', 'Resp', 'EtCO2',\n",
       "       'BaseExcess', 'HCO3', 'FiO2', 'pH', 'PaCO2', 'SaO2', 'AST', 'BUN',\n",
       "       'Alkalinephos', 'Calcium', 'Chloride', 'Creatinine', 'Bilirubin_direct',\n",
       "       'Glucose', 'Lactate', 'Magnesium', 'Phosphate', 'Potassium',\n",
       "       'Bilirubin_total', 'TroponinI', 'Hct', 'Hgb', 'PTT', 'WBC',\n",
       "       'Fibrinogen', 'Platelets', 'Age', 'Gender', 'Unit1', 'Unit2',\n",
       "       'HospAdmTime', 'ICULOS', 'SepsisLabel'],\n",
       "      dtype='object')"
      ]
     },
     "execution_count": 9,
     "metadata": {},
     "output_type": "execute_result"
    }
   ],
   "source": [
    "train_data.columns"
   ]
  },
  {
   "cell_type": "code",
   "execution_count": 15,
   "metadata": {},
   "outputs": [],
   "source": [
    "# Raw data with selected feature manually\n",
    "features = ['HR', 'Temp', 'DBP', 'SBP', 'Resp', 'Platelets', 'Calcium', 'Glucose', 'Age', 'Gender', 'HospAdmTime', 'ICULOS','pH', 'SepsisLabel']\n",
    "train_data_with_selected_feature_manually = train_data[features]\n",
    "test_data_with_selected_feature_manually = test_data[features]\n",
    "train_X = train_data_with_selected_feature_manually.iloc[:,0:-1]\n",
    "train_y = train_data_with_selected_feature_manually.iloc[:,-1]\n",
    "test_X = test_data_with_selected_feature_manually.iloc[:,0:-1]\n",
    "test_y = test_data_with_selected_feature_manually.iloc[:,-1]\n",
    "\n",
    "# scaling\n",
    "std = StandardScaler()\n",
    "train_X_scaled = std.fit_transform(train_X)\n",
    "test_X_scaled = std.transform(test_X)"
   ]
  },
  {
   "cell_type": "markdown",
   "metadata": {},
   "source": [
    "###                                                    Decision Tree"
   ]
  },
  {
   "cell_type": "code",
   "execution_count": 11,
   "metadata": {
    "collapsed": true,
    "jupyter": {
     "outputs_hidden": true
    }
   },
   "outputs": [
    {
     "name": "stdout",
     "output_type": "stream",
     "text": [
      "at [6,4,balanced] --> recall : 0.5985160758450123 , precision : 0.018001190161332982 , f1-score : 0.034951175871171705\n",
      "at [6,4,{0: 1, 1: 9}] --> recall : 0.994503984611157 , precision : 0.018657909118092862 , f1-score : 0.03662862781812201\n",
      "at [6,4,{0: 1, 1: 10}] --> recall : 0.994503984611157 , precision : 0.018657909118092862 , f1-score : 0.03662862781812201\n",
      "at [6,4,{0: 5, 1: 5}] --> recall : 0.9873591646056609 , precision : 0.01881920365384817 , f1-score : 0.03693443187483617\n",
      "at [6,4,{0: 1, 1: 90}] --> recall : 0.6166529266281946 , precision : 0.017798082185261854 , f1-score : 0.034597594819611464\n",
      "at [6,4,{0: 1, 1: 99}] --> recall : 0.6166529266281946 , precision : 0.017798082185261854 , f1-score : 0.034597594819611464\n",
      "at [6,8,balanced] --> recall : 0.5985160758450123 , precision : 0.018001190161332982 , f1-score : 0.034951175871171705\n",
      "at [6,8,{0: 1, 1: 9}] --> recall : 0.994503984611157 , precision : 0.018657909118092862 , f1-score : 0.03662862781812201\n",
      "at [6,8,{0: 1, 1: 10}] --> recall : 0.994503984611157 , precision : 0.018657909118092862 , f1-score : 0.03662862781812201\n",
      "at [6,8,{0: 5, 1: 5}] --> recall : 0.9873591646056609 , precision : 0.01881920365384817 , f1-score : 0.03693443187483617\n",
      "at [6,8,{0: 1, 1: 90}] --> recall : 0.6166529266281946 , precision : 0.017798082185261854 , f1-score : 0.034597594819611464\n",
      "at [6,8,{0: 1, 1: 99}] --> recall : 0.6166529266281946 , precision : 0.017798082185261854 , f1-score : 0.034597594819611464\n",
      "at [6,12,balanced] --> recall : 0.5985160758450123 , precision : 0.018001190161332982 , f1-score : 0.034951175871171705\n",
      "at [6,12,{0: 1, 1: 9}] --> recall : 0.994503984611157 , precision : 0.018657909118092862 , f1-score : 0.03662862781812201\n",
      "at [6,12,{0: 1, 1: 10}] --> recall : 0.994503984611157 , precision : 0.018657909118092862 , f1-score : 0.03662862781812201\n"
     ]
    },
    {
     "name": "stderr",
     "output_type": "stream",
     "text": [
      "C:\\Users\\SURAJ KUMAR\\AppData\\Local\\conda\\conda\\envs\\PythonCPU\\lib\\site-packages\\sklearn\\metrics\\_classification.py:1272: UndefinedMetricWarning: Precision is ill-defined and being set to 0.0 due to no predicted samples. Use `zero_division` parameter to control this behavior.\n",
      "  _warn_prf(average, modifier, msg_start, len(result))\n"
     ]
    },
    {
     "name": "stdout",
     "output_type": "stream",
     "text": [
      "at [6,12,{0: 5, 1: 5}] --> recall : 0.0 , precision : 0.0 , f1-score : 0.0\n",
      "at [6,12,{0: 1, 1: 90}] --> recall : 0.6166529266281946 , precision : 0.017798082185261854 , f1-score : 0.034597594819611464\n",
      "at [6,12,{0: 1, 1: 99}] --> recall : 0.6166529266281946 , precision : 0.017798082185261854 , f1-score : 0.034597594819611464\n"
     ]
    },
    {
     "name": "stderr",
     "output_type": "stream",
     "text": [
      "C:\\Users\\SURAJ KUMAR\\AppData\\Local\\conda\\conda\\envs\\PythonCPU\\lib\\site-packages\\sklearn\\metrics\\_classification.py:1272: UndefinedMetricWarning: Precision is ill-defined and being set to 0.0 due to no predicted samples. Use `zero_division` parameter to control this behavior.\n",
      "  _warn_prf(average, modifier, msg_start, len(result))\n"
     ]
    },
    {
     "name": "stdout",
     "output_type": "stream",
     "text": [
      "at [10,4,balanced] --> recall : 0.0 , precision : 0.0 , f1-score : 0.0\n",
      "at [10,4,{0: 1, 1: 9}] --> recall : 0.00741962077493817 , precision : 0.012575687005123428 , f1-score : 0.009332872450743173\n",
      "at [10,4,{0: 1, 1: 10}] --> recall : 0.00741962077493817 , precision : 0.012575687005123428 , f1-score : 0.009332872450743173\n",
      "at [10,4,{0: 5, 1: 5}] --> recall : 0.994503984611157 , precision : 0.018666859232590406 , f1-score : 0.03664587468103204\n",
      "at [10,4,{0: 1, 1: 90}] --> recall : 0.0 , precision : 0.0 , f1-score : 0.0\n",
      "at [10,4,{0: 1, 1: 99}] --> recall : 0.0 , precision : 0.0 , f1-score : 0.0\n",
      "at [10,8,balanced] --> recall : 0.4330860126408354 , precision : 0.02583479501008147 , f1-score : 0.048760867547414995\n",
      "at [10,8,{0: 1, 1: 9}] --> recall : 0.994503984611157 , precision : 0.018657909118092862 , f1-score : 0.03662862781812201\n",
      "at [10,8,{0: 1, 1: 10}] --> recall : 0.998076394613905 , precision : 0.018640457799789577 , f1-score : 0.036597408355333434\n",
      "at [10,8,{0: 5, 1: 5}] --> recall : 0.9873591646056609 , precision : 0.01881920365384817 , f1-score : 0.03693443187483617\n",
      "at [10,8,{0: 1, 1: 90}] --> recall : 0.0 , precision : 0.0 , f1-score : 0.0\n",
      "at [10,8,{0: 1, 1: 99}] --> recall : 0.0 , precision : 0.0 , f1-score : 0.0\n",
      "at [10,12,balanced] --> recall : 0.4358340203352569 , precision : 0.025541097655243494 , f1-score : 0.048254354605613455\n",
      "at [10,12,{0: 1, 1: 9}] --> recall : 0.994503984611157 , precision : 0.018656851069972214 , f1-score : 0.03662658894016679\n",
      "at [10,12,{0: 1, 1: 10}] --> recall : 0.994503984611157 , precision : 0.018657909118092862 , f1-score : 0.03662862781812201\n",
      "at [10,12,{0: 5, 1: 5}] --> recall : 0.9873591646056609 , precision : 0.018810041096248984 , f1-score : 0.03691678568126008\n",
      "at [10,12,{0: 1, 1: 90}] --> recall : 0.4358340203352569 , precision : 0.025536573977168436 , f1-score : 0.04824628114257902\n",
      "at [10,12,{0: 1, 1: 99}] --> recall : 0.4358340203352569 , precision : 0.025536573977168436 , f1-score : 0.04824628114257902\n"
     ]
    },
    {
     "name": "stderr",
     "output_type": "stream",
     "text": [
      "C:\\Users\\SURAJ KUMAR\\AppData\\Local\\conda\\conda\\envs\\PythonCPU\\lib\\site-packages\\sklearn\\metrics\\_classification.py:1272: UndefinedMetricWarning: Precision is ill-defined and being set to 0.0 due to no predicted samples. Use `zero_division` parameter to control this behavior.\n",
      "  _warn_prf(average, modifier, msg_start, len(result))\n"
     ]
    },
    {
     "name": "stdout",
     "output_type": "stream",
     "text": [
      "at [25,4,balanced] --> recall : 0.0 , precision : 0.0 , f1-score : 0.0\n",
      "at [25,4,{0: 1, 1: 9}] --> recall : 0.003572410002748008 , precision : 0.014192139737991267 , f1-score : 0.0057080131723380905\n",
      "at [25,4,{0: 1, 1: 10}] --> recall : 0.0 , precision : 0.0 , f1-score : 0.0\n",
      "at [25,4,{0: 5, 1: 5}] --> recall : 0.994503984611157 , precision : 0.018666859232590406 , f1-score : 0.03664587468103204\n",
      "at [25,4,{0: 1, 1: 90}] --> recall : 0.0 , precision : 0.0 , f1-score : 0.0\n",
      "at [25,4,{0: 1, 1: 99}] --> recall : 0.0 , precision : 0.0 , f1-score : 0.0\n",
      "at [25,8,balanced] --> recall : 0.4330860126408354 , precision : 0.02583479501008147 , f1-score : 0.048760867547414995\n",
      "at [25,8,{0: 1, 1: 9}] --> recall : 0.994503984611157 , precision : 0.018657909118092862 , f1-score : 0.03662862781812201\n",
      "at [25,8,{0: 1, 1: 10}] --> recall : 0.998076394613905 , precision : 0.018639405509709734 , f1-score : 0.03659538023627799\n",
      "at [25,8,{0: 5, 1: 5}] --> recall : 0.9873591646056609 , precision : 0.01881920365384817 , f1-score : 0.03693443187483617\n",
      "at [25,8,{0: 1, 1: 90}] --> recall : 0.0 , precision : 0.0 , f1-score : 0.0\n",
      "at [25,8,{0: 1, 1: 99}] --> recall : 0.0 , precision : 0.0 , f1-score : 0.0\n",
      "at [25,12,balanced] --> recall : 0.4358340203352569 , precision : 0.025541097655243494 , f1-score : 0.048254354605613455\n",
      "at [25,12,{0: 1, 1: 9}] --> recall : 0.994503984611157 , precision : 0.018657909118092862 , f1-score : 0.03662862781812201\n",
      "at [25,12,{0: 1, 1: 10}] --> recall : 0.994503984611157 , precision : 0.018657909118092862 , f1-score : 0.03662862781812201\n",
      "at [25,12,{0: 5, 1: 5}] --> recall : 0.9909315746084089 , precision : 0.018790547406268728 , f1-score : 0.036881724829194454\n",
      "at [25,12,{0: 1, 1: 90}] --> recall : 0.4358340203352569 , precision : 0.025536573977168436 , f1-score : 0.04824628114257902\n",
      "at [25,12,{0: 1, 1: 99}] --> recall : 0.4358340203352569 , precision : 0.025536573977168436 , f1-score : 0.04824628114257902\n"
     ]
    },
    {
     "name": "stderr",
     "output_type": "stream",
     "text": [
      "C:\\Users\\SURAJ KUMAR\\AppData\\Local\\conda\\conda\\envs\\PythonCPU\\lib\\site-packages\\sklearn\\metrics\\_classification.py:1272: UndefinedMetricWarning: Precision is ill-defined and being set to 0.0 due to no predicted samples. Use `zero_division` parameter to control this behavior.\n",
      "  _warn_prf(average, modifier, msg_start, len(result))\n"
     ]
    },
    {
     "name": "stdout",
     "output_type": "stream",
     "text": [
      "at [50,4,balanced] --> recall : 0.0 , precision : 0.0 , f1-score : 0.0\n",
      "at [50,4,{0: 1, 1: 9}] --> recall : 0.003572410002748008 , precision : 0.014192139737991267 , f1-score : 0.0057080131723380905\n",
      "at [50,4,{0: 1, 1: 10}] --> recall : 0.004396812311074471 , precision : 0.015209125475285171 , f1-score : 0.006821573225325091\n",
      "at [50,4,{0: 5, 1: 5}] --> recall : 0.994503984611157 , precision : 0.018666859232590406 , f1-score : 0.03664587468103204\n",
      "at [50,4,{0: 1, 1: 90}] --> recall : 0.0 , precision : 0.0 , f1-score : 0.0\n",
      "at [50,4,{0: 1, 1: 99}] --> recall : 0.0 , precision : 0.0 , f1-score : 0.0\n",
      "at [50,8,balanced] --> recall : 0.4330860126408354 , precision : 0.02583479501008147 , f1-score : 0.048760867547414995\n",
      "at [50,8,{0: 1, 1: 9}] --> recall : 0.994503984611157 , precision : 0.018657909118092862 , f1-score : 0.03662862781812201\n",
      "at [50,8,{0: 1, 1: 10}] --> recall : 0.998076394613905 , precision : 0.018640457799789577 , f1-score : 0.036597408355333434\n",
      "at [50,8,{0: 5, 1: 5}] --> recall : 0.9873591646056609 , precision : 0.01881920365384817 , f1-score : 0.03693443187483617\n",
      "at [50,8,{0: 1, 1: 90}] --> recall : 0.0 , precision : 0.0 , f1-score : 0.0\n",
      "at [50,8,{0: 1, 1: 99}] --> recall : 0.0 , precision : 0.0 , f1-score : 0.0\n",
      "at [50,12,balanced] --> recall : 0.4358340203352569 , precision : 0.025541097655243494 , f1-score : 0.048254354605613455\n",
      "at [50,12,{0: 1, 1: 9}] --> recall : 0.994503984611157 , precision : 0.018657909118092862 , f1-score : 0.03662862781812201\n",
      "at [50,12,{0: 1, 1: 10}] --> recall : 0.994503984611157 , precision : 0.018657909118092862 , f1-score : 0.03662862781812201\n",
      "at [50,12,{0: 5, 1: 5}] --> recall : 0.9909315746084089 , precision : 0.018790547406268728 , f1-score : 0.036881724829194454\n",
      "at [50,12,{0: 1, 1: 90}] --> recall : 0.4358340203352569 , precision : 0.025536573977168436 , f1-score : 0.04824628114257902\n",
      "at [50,12,{0: 1, 1: 99}] --> recall : 0.4358340203352569 , precision : 0.025536573977168436 , f1-score : 0.04824628114257902\n"
     ]
    }
   ],
   "source": [
    "from sklearn.tree import DecisionTreeClassifier\n",
    "from sklearn.metrics import make_scorer , f1_score, precision_score, recall_score\n",
    "from sklearn.model_selection import GridSearchCV\n",
    "from Function import Grid_result\n",
    "\n",
    "params = {'max_depth' : [6,10,25,50] ,\n",
    "          'min_samples_split' : [5,10,15] ,\n",
    "          'min_samples_leaf' : [4,8,12], \n",
    "          'class_weight' : ['balanced' , {0:1 , 1:9} , {0:1 , 1:10} , {0:5 , 1:5} , {0:1 , 1:90} , {0:1 , 1:99}]\n",
    "          }\n",
    "recall = []\n",
    "precision = []\n",
    "f1_scores = []\n",
    "grid_params = []\n",
    "for max_depth in [6,10,25,50]:\n",
    "    for min_samples_leaf in [4,8,12]:\n",
    "        for class_weight in ['balanced' , {0:1 , 1:9} , {0:1 , 1:10} , {0:5 , 1:5} , {0:1 , 1:90} , {0:1 , 1:99}]:\n",
    "            dtc = DecisionTreeClassifier(max_depth = max_depth, min_samples_leaf = min_samples_leaf, class_weight = class_weight)\n",
    "            dtc = dtc.fit(train_X_scaled, train_y)\n",
    "            pred_test_y = dtc.predict(test_X)\n",
    "            re = recall_score(test_y,pred_test_y)\n",
    "            pre = precision_score(test_y,pred_test_y)\n",
    "            f1 = f1_score(test_y,pred_test_y)\n",
    "            grid_param = '['+','.join([str(max_depth),str(min_samples_leaf),str(class_weight)])+']'\n",
    "            grid_params.append(grid_param) \n",
    "            print(\"at {} --> recall : {} , precision : {} , f1-score : {}\".format(grid_param,re,pre,f1))\n",
    "            recall.append(re)\n",
    "            precision.append(pre)\n",
    "            f1_scores.append(f1)\n"
   ]
  },
  {
   "cell_type": "code",
   "execution_count": 20,
   "metadata": {
    "collapsed": true,
    "jupyter": {
     "outputs_hidden": true
    }
   },
   "outputs": [
    {
     "data": {
      "image/png": "[encoded data removed]",
      "text/plain": [
       "<Figure size 7462.8x720 with 1 Axes>"
      ]
     },
     "metadata": {
      "needs_background": "light"
     },
     "output_type": "display_data"
    }
   ],
   "source": [
    "plt.figure(figsize= (40,10))\n",
    "params = len(grid_params)\n",
    "plt.plot(range(params),recall , label = 'recall')\n",
    "plt.plot(range(params),precision , label = 'precision')\n",
    "plt.plot(range(params),f1_scores , label = 'f1-score')\n",
    "plt.xticks(np.arange(params), grid_params) \n",
    "plt.gca().margins(x = 0)\n",
    "plt.gcf().canvas.draw()\n",
    "t1 = plt.gca().get_xticklabels()\n",
    "maxszie = max([t.get_window_extent().width for t in t1])\n",
    "m = 0.2\n",
    "s = maxszie/plt.gcf().dpi*params+2*m\n",
    "margin = m/plt.gcf().get_size_inches()[0]\n",
    "plt.gcf().subplots_adjust(left = margin, right = 1.-margin)\n",
    "plt.gcf().set_size_inches(s, plt.gcf().get_size_inches()[1])\n",
    "plt.legend()\n",
    "plt.show()\n",
    "\n",
    "# OUTPUT \n",
    "# best paramenter on Recall = (10,8,{0:1,1:9})\n",
    "# best parameter on Precision =  (10,8,balanced)\n",
    "# best parameter on F1_Score = (10,8,balanced)\n",
    "# best parameters on average of all or overall good model = (10,8,balanced)"
   ]
  },
  {
   "cell_type": "code",
   "execution_count": 6,
   "metadata": {
    "collapsed": true,
    "jupyter": {
     "outputs_hidden": true
    }
   },
   "outputs": [
    {
     "name": "stdout",
     "output_type": "stream",
     "text": [
      "Confusion matrix\n",
      " [[149208  42127]\n",
      " [  1680   1959]]\n",
      "Accuracy on test set 0.7753187604501113\n",
      "Precision on test set 0.044435875334573334\n",
      "Recall on test set 0.5383347073371806\n",
      "F1 score on test set 0.08209533787323206\n",
      "Classification report on test\n",
      "\n",
      "              precision    recall  f1-score   support\n",
      "\n",
      "  not sepsis       0.99      0.78      0.87    191335\n",
      "      sepsis       0.04      0.54      0.08      3639\n",
      "\n",
      "    accuracy                           0.78    194974\n",
      "   macro avg       0.52      0.66      0.48    194974\n",
      "weighted avg       0.97      0.78      0.86    194974\n",
      "\n",
      "Confusion matrix on train set\n",
      " [[1053478  279331]\n",
      " [   7411   16866]]\n",
      "Accuracy on train set 0.7887075690118386\n",
      "Precision on train set 0.05694183263166069\n",
      "Recall on train set 0.6947316389998764\n",
      "F1 score on train set 0.1052565886780207\n",
      "Classification report on train\n",
      "\n",
      "              precision    recall  f1-score   support\n",
      "\n",
      "  not sepsis       0.99      0.79      0.88   1332809\n",
      "      sepsis       0.06      0.69      0.11     24277\n",
      "\n",
      "    accuracy                           0.79   1357086\n",
      "   macro avg       0.52      0.74      0.49   1357086\n",
      "weighted avg       0.98      0.79      0.87   1357086\n",
      "\n"
     ]
    }
   ],
   "source": [
    "# decision tree classifier on best hyperparameter\n",
    "from sklearn.tree import DecisionTreeClassifier\n",
    "clf_DTC = DecisionTreeClassifier(max_depth = 10, min_samples_leaf = 8, class_weight = 'balanced')\n",
    "clf_DTC = clf_DTC.fit(train_X_scaled,train_y)\n",
    "result(clf_DTC,train_X_scaled,train_y,test_X_scaled,test_y)\n",
    "\n",
    "# OUTPUT\n",
    "# Accuracy on test set 0.7753187604501113\n",
    "# Precision on test set 0.044435875334573334\n",
    "# Recall on test set 0.5383347073371806\n",
    "# F1 score on test set 0.08209533787323206"
   ]
  },
  {
   "cell_type": "markdown",
   "metadata": {},
   "source": [
    "### Random Forest"
   ]
  },
  {
   "cell_type": "code",
   "execution_count": null,
   "metadata": {
    "collapsed": true,
    "jupyter": {
     "outputs_hidden": true
    }
   },
   "outputs": [
    {
     "name": "stdout",
     "output_type": "stream",
     "text": [
      "at [100,6,4,balanced] --> recall : 1.0 , precision : 0.01866651619919158 , f1-score : 0.03664892465267112\n",
      "at [100,6,4,{0: 1, 1: 9}] --> recall : 0.9873591646056609 , precision : 0.018810041096248984 , f1-score : 0.03691678568126008\n",
      "at [100,6,4,{0: 1, 1: 10}] --> recall : 0.9873591646056609 , precision : 0.018810041096248984 , f1-score : 0.03691678568126008\n"
     ]
    },
    {
     "name": "stderr",
     "output_type": "stream",
     "text": [
      "C:\\Users\\SURAJ KUMAR\\AppData\\Local\\conda\\conda\\envs\\PythonCPU\\lib\\site-packages\\sklearn\\metrics\\_classification.py:1272: UndefinedMetricWarning: Precision is ill-defined and being set to 0.0 due to no predicted samples. Use `zero_division` parameter to control this behavior.\n",
      "  _warn_prf(average, modifier, msg_start, len(result))\n"
     ]
    },
    {
     "name": "stdout",
     "output_type": "stream",
     "text": [
      "at [100,6,4,{0: 5, 1: 5}] --> recall : 0.0 , precision : 0.0 , f1-score : 0.0\n",
      "at [100,6,4,{0: 1, 1: 90}] --> recall : 0.5905468535311899 , precision : 0.01821093842685965 , f1-score : 0.03533231945414937\n",
      "at [100,6,4,{0: 1, 1: 99}] --> recall : 0.592470458917285 , precision : 0.01818764657252282 , f1-score : 0.03529190299637423\n"
     ]
    },
    {
     "name": "stderr",
     "output_type": "stream",
     "text": [
      "C:\\Users\\SURAJ KUMAR\\AppData\\Local\\conda\\conda\\envs\\PythonCPU\\lib\\site-packages\\sklearn\\metrics\\_classification.py:1272: UndefinedMetricWarning: Precision is ill-defined and being set to 0.0 due to no predicted samples. Use `zero_division` parameter to control this behavior.\n",
      "  _warn_prf(average, modifier, msg_start, len(result))\n"
     ]
    },
    {
     "name": "stdout",
     "output_type": "stream",
     "text": [
      "at [100,6,4,None] --> recall : 0.0 , precision : 0.0 , f1-score : 0.0\n",
      "at [100,6,8,balanced] --> recall : 0.5987908766144545 , precision : 0.01784763574113966 , f1-score : 0.034662127767879865\n",
      "at [100,6,8,{0: 1, 1: 9}] --> recall : 0.9873591646056609 , precision : 0.018810041096248984 , f1-score : 0.03691678568126008\n",
      "at [100,6,8,{0: 1, 1: 10}] --> recall : 0.9873591646056609 , precision : 0.018810041096248984 , f1-score : 0.03691678568126008\n"
     ]
    },
    {
     "name": "stderr",
     "output_type": "stream",
     "text": [
      "C:\\Users\\SURAJ KUMAR\\AppData\\Local\\conda\\conda\\envs\\PythonCPU\\lib\\site-packages\\sklearn\\metrics\\_classification.py:1272: UndefinedMetricWarning: Precision is ill-defined and being set to 0.0 due to no predicted samples. Use `zero_division` parameter to control this behavior.\n",
      "  _warn_prf(average, modifier, msg_start, len(result))\n"
     ]
    },
    {
     "name": "stdout",
     "output_type": "stream",
     "text": [
      "at [100,6,8,{0: 5, 1: 5}] --> recall : 0.0 , precision : 0.0 , f1-score : 0.0\n",
      "at [100,6,8,{0: 1, 1: 90}] --> recall : 0.6089585050838142 , precision : 0.01795204147764096 , f1-score : 0.03487594331085388\n",
      "at [100,6,8,{0: 1, 1: 99}] --> recall : 0.6331409727947238 , precision : 0.01753865125944872 , f1-score : 0.03413181636371716\n"
     ]
    },
    {
     "name": "stderr",
     "output_type": "stream",
     "text": [
      "C:\\Users\\SURAJ KUMAR\\AppData\\Local\\conda\\conda\\envs\\PythonCPU\\lib\\site-packages\\sklearn\\metrics\\_classification.py:1272: UndefinedMetricWarning: Precision is ill-defined and being set to 0.0 due to no predicted samples. Use `zero_division` parameter to control this behavior.\n",
      "  _warn_prf(average, modifier, msg_start, len(result))\n"
     ]
    },
    {
     "name": "stdout",
     "output_type": "stream",
     "text": [
      "at [100,6,8,None] --> recall : 0.0 , precision : 0.0 , f1-score : 0.0\n",
      "at [100,6,12,balanced] --> recall : 1.0 , precision : 0.01866402699847159 , f1-score : 0.036644127020889865\n",
      "at [100,6,12,{0: 1, 1: 9}] --> recall : 0.9873591646056609 , precision : 0.018810041096248984 , f1-score : 0.03691678568126008\n",
      "at [100,6,12,{0: 1, 1: 10}] --> recall : 1.0 , precision : 0.018665080040828258 , f1-score : 0.03664615663487779\n"
     ]
    },
    {
     "name": "stderr",
     "output_type": "stream",
     "text": [
      "C:\\Users\\SURAJ KUMAR\\AppData\\Local\\conda\\conda\\envs\\PythonCPU\\lib\\site-packages\\sklearn\\metrics\\_classification.py:1272: UndefinedMetricWarning: Precision is ill-defined and being set to 0.0 due to no predicted samples. Use `zero_division` parameter to control this behavior.\n",
      "  _warn_prf(average, modifier, msg_start, len(result))\n"
     ]
    },
    {
     "name": "stdout",
     "output_type": "stream",
     "text": [
      "at [100,6,12,{0: 5, 1: 5}] --> recall : 0.0 , precision : 0.0 , f1-score : 0.0\n",
      "at [100,6,12,{0: 1, 1: 90}] --> recall : 0.6342401758724925 , precision : 0.017515899397416632 , f1-score : 0.03409032162770947\n",
      "at [100,6,12,{0: 1, 1: 99}] --> recall : 1.0 , precision : 0.01866402699847159 , f1-score : 0.036644127020889865\n"
     ]
    },
    {
     "name": "stderr",
     "output_type": "stream",
     "text": [
      "C:\\Users\\SURAJ KUMAR\\AppData\\Local\\conda\\conda\\envs\\PythonCPU\\lib\\site-packages\\sklearn\\metrics\\_classification.py:1272: UndefinedMetricWarning: Precision is ill-defined and being set to 0.0 due to no predicted samples. Use `zero_division` parameter to control this behavior.\n",
      "  _warn_prf(average, modifier, msg_start, len(result))\n"
     ]
    },
    {
     "name": "stdout",
     "output_type": "stream",
     "text": [
      "at [100,6,12,None] --> recall : 0.0 , precision : 0.0 , f1-score : 0.0\n"
     ]
    },
    {
     "name": "stderr",
     "output_type": "stream",
     "text": [
      "C:\\Users\\SURAJ KUMAR\\AppData\\Local\\conda\\conda\\envs\\PythonCPU\\lib\\site-packages\\sklearn\\metrics\\_classification.py:1272: UndefinedMetricWarning: Precision is ill-defined and being set to 0.0 due to no predicted samples. Use `zero_division` parameter to control this behavior.\n",
      "  _warn_prf(average, modifier, msg_start, len(result))\n"
     ]
    },
    {
     "name": "stdout",
     "output_type": "stream",
     "text": [
      "at [100,10,4,balanced] --> recall : 0.0 , precision : 0.0 , f1-score : 0.0\n",
      "at [100,10,4,{0: 1, 1: 9}] --> recall : 0.0 , precision : 0.0 , f1-score : 0.0\n",
      "at [100,10,4,{0: 1, 1: 10}] --> recall : 0.4179719703215169 , precision : 0.025655730791937253 , f1-score : 0.04834403407284979\n",
      "at [100,10,4,{0: 5, 1: 5}] --> recall : 0.9563066776586975 , precision : 0.01918158567774936 , f1-score : 0.03760881429567228\n"
     ]
    },
    {
     "name": "stderr",
     "output_type": "stream",
     "text": [
      "C:\\Users\\SURAJ KUMAR\\AppData\\Local\\conda\\conda\\envs\\PythonCPU\\lib\\site-packages\\sklearn\\metrics\\_classification.py:1272: UndefinedMetricWarning: Precision is ill-defined and being set to 0.0 due to no predicted samples. Use `zero_division` parameter to control this behavior.\n",
      "  _warn_prf(average, modifier, msg_start, len(result))\n"
     ]
    },
    {
     "name": "stdout",
     "output_type": "stream",
     "text": [
      "at [100,10,4,{0: 1, 1: 90}] --> recall : 0.0 , precision : 0.0 , f1-score : 0.0\n"
     ]
    },
    {
     "name": "stderr",
     "output_type": "stream",
     "text": [
      "C:\\Users\\SURAJ KUMAR\\AppData\\Local\\conda\\conda\\envs\\PythonCPU\\lib\\site-packages\\sklearn\\metrics\\_classification.py:1272: UndefinedMetricWarning: Precision is ill-defined and being set to 0.0 due to no predicted samples. Use `zero_division` parameter to control this behavior.\n",
      "  _warn_prf(average, modifier, msg_start, len(result))\n"
     ]
    },
    {
     "name": "stdout",
     "output_type": "stream",
     "text": [
      "at [100,10,4,{0: 1, 1: 99}] --> recall : 0.0 , precision : 0.0 , f1-score : 0.0\n",
      "at [100,10,4,None] --> recall : 0.003022808463863699 , precision : 0.009649122807017544 , f1-score : 0.004603473530027202\n",
      "at [100,10,8,balanced] --> recall : 0.048639736191261336 , precision : 0.029613518487535552 , f1-score : 0.03681364392678869\n",
      "at [100,10,8,{0: 1, 1: 9}] --> recall : 0.9931299807639461 , precision : 0.01881997604540957 , f1-score : 0.03693993427676331\n",
      "at [100,10,8,{0: 1, 1: 10}] --> recall : 0.9873591646056609 , precision : 0.018810139570921505 , f1-score : 0.03691697533559719\n",
      "at [100,10,8,{0: 5, 1: 5}] --> recall : 0.9076669414674361 , precision : 0.018956285187927205 , f1-score : 0.037136978446385804\n"
     ]
    },
    {
     "name": "stderr",
     "output_type": "stream",
     "text": [
      "C:\\Users\\SURAJ KUMAR\\AppData\\Local\\conda\\conda\\envs\\PythonCPU\\lib\\site-packages\\sklearn\\metrics\\_classification.py:1272: UndefinedMetricWarning: Precision is ill-defined and being set to 0.0 due to no predicted samples. Use `zero_division` parameter to control this behavior.\n",
      "  _warn_prf(average, modifier, msg_start, len(result))\n"
     ]
    },
    {
     "name": "stdout",
     "output_type": "stream",
     "text": [
      "at [100,10,8,{0: 1, 1: 90}] --> recall : 0.0 , precision : 0.0 , f1-score : 0.0\n"
     ]
    },
    {
     "name": "stderr",
     "output_type": "stream",
     "text": [
      "C:\\Users\\SURAJ KUMAR\\AppData\\Local\\conda\\conda\\envs\\PythonCPU\\lib\\site-packages\\sklearn\\metrics\\_classification.py:1272: UndefinedMetricWarning: Precision is ill-defined and being set to 0.0 due to no predicted samples. Use `zero_division` parameter to control this behavior.\n",
      "  _warn_prf(average, modifier, msg_start, len(result))\n"
     ]
    },
    {
     "name": "stdout",
     "output_type": "stream",
     "text": [
      "at [100,10,8,{0: 1, 1: 99}] --> recall : 0.0 , precision : 0.0 , f1-score : 0.0\n",
      "at [100,10,8,None] --> recall : 0.9400934322616104 , precision : 0.019321679704046767 , f1-score : 0.03786512003718995\n",
      "at [100,10,12,balanced] --> recall : 0.5812036273701566 , precision : 0.018372452613839713 , f1-score : 0.03561895298803439\n",
      "at [100,10,12,{0: 1, 1: 9}] --> recall : 0.9873591646056609 , precision : 0.018810041096248984 , f1-score : 0.03691678568126008\n",
      "at [100,10,12,{0: 1, 1: 10}] --> recall : 0.989282769991756 , precision : 0.018837614530080007 , f1-score : 0.036971234325737116\n"
     ]
    },
    {
     "name": "stderr",
     "output_type": "stream",
     "text": [
      "C:\\Users\\SURAJ KUMAR\\AppData\\Local\\conda\\conda\\envs\\PythonCPU\\lib\\site-packages\\sklearn\\metrics\\_classification.py:1272: UndefinedMetricWarning: Precision is ill-defined and being set to 0.0 due to no predicted samples. Use `zero_division` parameter to control this behavior.\n",
      "  _warn_prf(average, modifier, msg_start, len(result))\n"
     ]
    },
    {
     "name": "stdout",
     "output_type": "stream",
     "text": [
      "at [100,10,12,{0: 5, 1: 5}] --> recall : 0.0 , precision : 0.0 , f1-score : 0.0\n",
      "at [100,10,12,{0: 1, 1: 90}] --> recall : 0.5831272327562517 , precision : 0.01829894017919509 , f1-score : 0.03548435644888882\n",
      "at [100,10,12,{0: 1, 1: 99}] --> recall : 0.523220665017862 , precision : 0.019984465856372147 , f1-score : 0.03849847846086965\n"
     ]
    },
    {
     "name": "stderr",
     "output_type": "stream",
     "text": [
      "C:\\Users\\SURAJ KUMAR\\AppData\\Local\\conda\\conda\\envs\\PythonCPU\\lib\\site-packages\\sklearn\\metrics\\_classification.py:1272: UndefinedMetricWarning: Precision is ill-defined and being set to 0.0 due to no predicted samples. Use `zero_division` parameter to control this behavior.\n",
      "  _warn_prf(average, modifier, msg_start, len(result))\n"
     ]
    },
    {
     "name": "stdout",
     "output_type": "stream",
     "text": [
      "at [100,10,12,None] --> recall : 0.0 , precision : 0.0 , f1-score : 0.0\n"
     ]
    },
    {
     "name": "stderr",
     "output_type": "stream",
     "text": [
      "C:\\Users\\SURAJ KUMAR\\AppData\\Local\\conda\\conda\\envs\\PythonCPU\\lib\\site-packages\\sklearn\\metrics\\_classification.py:1272: UndefinedMetricWarning: Precision is ill-defined and being set to 0.0 due to no predicted samples. Use `zero_division` parameter to control this behavior.\n",
      "  _warn_prf(average, modifier, msg_start, len(result))\n"
     ]
    },
    {
     "name": "stdout",
     "output_type": "stream",
     "text": [
      "at [100,25,4,balanced] --> recall : 0.0 , precision : 0.0 , f1-score : 0.0\n",
      "at [100,25,4,{0: 1, 1: 9}] --> recall : 0.07364660621049739 , precision : 0.022460610124036204 , f1-score : 0.03442296576970008\n",
      "at [100,25,4,{0: 1, 1: 10}] --> recall : 0.41220115416323166 , precision : 0.02605161693702456 , f1-score : 0.04900599506672983\n",
      "at [100,25,4,{0: 5, 1: 5}] --> recall : 0.9873591646056609 , precision : 0.018815261675097665 , f1-score : 0.036926840047070676\n"
     ]
    },
    {
     "name": "stderr",
     "output_type": "stream",
     "text": [
      "C:\\Users\\SURAJ KUMAR\\AppData\\Local\\conda\\conda\\envs\\PythonCPU\\lib\\site-packages\\sklearn\\metrics\\_classification.py:1272: UndefinedMetricWarning: Precision is ill-defined and being set to 0.0 due to no predicted samples. Use `zero_division` parameter to control this behavior.\n",
      "  _warn_prf(average, modifier, msg_start, len(result))\n"
     ]
    },
    {
     "name": "stdout",
     "output_type": "stream",
     "text": [
      "at [100,25,4,{0: 1, 1: 90}] --> recall : 0.0 , precision : 0.0 , f1-score : 0.0\n"
     ]
    },
    {
     "name": "stderr",
     "output_type": "stream",
     "text": [
      "C:\\Users\\SURAJ KUMAR\\AppData\\Local\\conda\\conda\\envs\\PythonCPU\\lib\\site-packages\\sklearn\\metrics\\_classification.py:1272: UndefinedMetricWarning: Precision is ill-defined and being set to 0.0 due to no predicted samples. Use `zero_division` parameter to control this behavior.\n",
      "  _warn_prf(average, modifier, msg_start, len(result))\n"
     ]
    },
    {
     "name": "stdout",
     "output_type": "stream",
     "text": [
      "at [100,25,4,{0: 1, 1: 99}] --> recall : 0.0 , precision : 0.0 , f1-score : 0.0\n",
      "at [100,25,4,None] --> recall : 0.9332234130255564 , precision : 0.019428251056940335 , f1-score : 0.03806406778901118\n",
      "at [100,25,8,balanced] --> recall : 0.5413575158010443 , precision : 0.01886087947227834 , f1-score : 0.03645178003108578\n",
      "at [100,25,8,{0: 1, 1: 9}] --> recall : 0.9846111569112393 , precision : 0.018849561246606764 , f1-score : 0.03699096132106152\n",
      "at [100,25,8,{0: 1, 1: 10}] --> recall : 0.9873591646056609 , precision : 0.018810041096248984 , f1-score : 0.03691678568126008\n",
      "at [100,25,8,{0: 5, 1: 5}] --> recall : 0.0 , precision : 0.0 , f1-score : 0.0\n"
     ]
    },
    {
     "name": "stderr",
     "output_type": "stream",
     "text": [
      "C:\\Users\\SURAJ KUMAR\\AppData\\Local\\conda\\conda\\envs\\PythonCPU\\lib\\site-packages\\sklearn\\metrics\\_classification.py:1272: UndefinedMetricWarning: Precision is ill-defined and being set to 0.0 due to no predicted samples. Use `zero_division` parameter to control this behavior.\n",
      "  _warn_prf(average, modifier, msg_start, len(result))\n"
     ]
    },
    {
     "name": "stdout",
     "output_type": "stream",
     "text": [
      "at [100,25,8,{0: 1, 1: 90}] --> recall : 0.0 , precision : 0.0 , f1-score : 0.0\n"
     ]
    },
    {
     "name": "stderr",
     "output_type": "stream",
     "text": [
      "C:\\Users\\SURAJ KUMAR\\AppData\\Local\\conda\\conda\\envs\\PythonCPU\\lib\\site-packages\\sklearn\\metrics\\_classification.py:1272: UndefinedMetricWarning: Precision is ill-defined and being set to 0.0 due to no predicted samples. Use `zero_division` parameter to control this behavior.\n",
      "  _warn_prf(average, modifier, msg_start, len(result))\n"
     ]
    },
    {
     "name": "stdout",
     "output_type": "stream",
     "text": [
      "at [100,25,8,{0: 1, 1: 99}] --> recall : 0.0 , precision : 0.0 , f1-score : 0.0\n",
      "at [100,25,8,None] --> recall : 0.029953283869194835 , precision : 0.023400601116358954 , f1-score : 0.026274557068820058\n",
      "at [100,25,12,balanced] --> recall : 0.9755427315196482 , precision : 0.018860506630397823 , f1-score : 0.03700557168396199\n",
      "at [100,25,12,{0: 1, 1: 9}] --> recall : 0.9931299807639461 , precision : 0.018813216102114016 , f1-score : 0.036926912505492036\n",
      "at [100,25,12,{0: 1, 1: 10}] --> recall : 0.9939543830722726 , precision : 0.018824423349154802 , f1-score : 0.0369490711655251\n"
     ]
    },
    {
     "name": "stderr",
     "output_type": "stream",
     "text": [
      "C:\\Users\\SURAJ KUMAR\\AppData\\Local\\conda\\conda\\envs\\PythonCPU\\lib\\site-packages\\sklearn\\metrics\\_classification.py:1272: UndefinedMetricWarning: Precision is ill-defined and being set to 0.0 due to no predicted samples. Use `zero_division` parameter to control this behavior.\n",
      "  _warn_prf(average, modifier, msg_start, len(result))\n"
     ]
    },
    {
     "name": "stdout",
     "output_type": "stream",
     "text": [
      "at [100,25,12,{0: 5, 1: 5}] --> recall : 0.0 , precision : 0.0 , f1-score : 0.0\n",
      "at [100,25,12,{0: 1, 1: 90}] --> recall : 0.42978840340752955 , precision : 0.025370664763326087 , f1-score : 0.047912996859921876\n",
      "at [100,25,12,{0: 1, 1: 99}] --> recall : 0.5831272327562517 , precision : 0.018301623169406447 , f1-score : 0.03548940084458753\n"
     ]
    },
    {
     "name": "stderr",
     "output_type": "stream",
     "text": [
      "C:\\Users\\SURAJ KUMAR\\AppData\\Local\\conda\\conda\\envs\\PythonCPU\\lib\\site-packages\\sklearn\\metrics\\_classification.py:1272: UndefinedMetricWarning: Precision is ill-defined and being set to 0.0 due to no predicted samples. Use `zero_division` parameter to control this behavior.\n",
      "  _warn_prf(average, modifier, msg_start, len(result))\n"
     ]
    },
    {
     "name": "stdout",
     "output_type": "stream",
     "text": [
      "at [100,25,12,None] --> recall : 0.0 , precision : 0.0 , f1-score : 0.0\n"
     ]
    },
    {
     "name": "stderr",
     "output_type": "stream",
     "text": [
      "C:\\Users\\SURAJ KUMAR\\AppData\\Local\\conda\\conda\\envs\\PythonCPU\\lib\\site-packages\\sklearn\\metrics\\_classification.py:1272: UndefinedMetricWarning: Precision is ill-defined and being set to 0.0 due to no predicted samples. Use `zero_division` parameter to control this behavior.\n",
      "  _warn_prf(average, modifier, msg_start, len(result))\n"
     ]
    },
    {
     "name": "stdout",
     "output_type": "stream",
     "text": [
      "at [100,50,4,balanced] --> recall : 0.0 , precision : 0.0 , f1-score : 0.0\n"
     ]
    },
    {
     "name": "stderr",
     "output_type": "stream",
     "text": [
      "C:\\Users\\SURAJ KUMAR\\AppData\\Local\\conda\\conda\\envs\\PythonCPU\\lib\\site-packages\\sklearn\\metrics\\_classification.py:1272: UndefinedMetricWarning: Precision is ill-defined and being set to 0.0 due to no predicted samples. Use `zero_division` parameter to control this behavior.\n",
      "  _warn_prf(average, modifier, msg_start, len(result))\n"
     ]
    },
    {
     "name": "stdout",
     "output_type": "stream",
     "text": [
      "at [100,50,4,{0: 1, 1: 9}] --> recall : 0.0 , precision : 0.0 , f1-score : 0.0\n",
      "at [100,50,4,{0: 1, 1: 10}] --> recall : 0.0464413300357241 , precision : 0.024009092200596677 , f1-score : 0.03165386776549916\n",
      "at [100,50,4,{0: 5, 1: 5}] --> recall : 0.9873591646056609 , precision : 0.01881210928091982 , f1-score : 0.036920768831595875\n"
     ]
    },
    {
     "name": "stderr",
     "output_type": "stream",
     "text": [
      "C:\\Users\\SURAJ KUMAR\\AppData\\Local\\conda\\conda\\envs\\PythonCPU\\lib\\site-packages\\sklearn\\metrics\\_classification.py:1272: UndefinedMetricWarning: Precision is ill-defined and being set to 0.0 due to no predicted samples. Use `zero_division` parameter to control this behavior.\n",
      "  _warn_prf(average, modifier, msg_start, len(result))\n"
     ]
    },
    {
     "name": "stdout",
     "output_type": "stream",
     "text": [
      "at [100,50,4,{0: 1, 1: 90}] --> recall : 0.0 , precision : 0.0 , f1-score : 0.0\n"
     ]
    },
    {
     "name": "stderr",
     "output_type": "stream",
     "text": [
      "C:\\Users\\SURAJ KUMAR\\AppData\\Local\\conda\\conda\\envs\\PythonCPU\\lib\\site-packages\\sklearn\\metrics\\_classification.py:1272: UndefinedMetricWarning: Precision is ill-defined and being set to 0.0 due to no predicted samples. Use `zero_division` parameter to control this behavior.\n",
      "  _warn_prf(average, modifier, msg_start, len(result))\n"
     ]
    },
    {
     "name": "stdout",
     "output_type": "stream",
     "text": [
      "at [100,50,4,{0: 1, 1: 99}] --> recall : 0.0 , precision : 0.0 , f1-score : 0.0\n",
      "at [100,50,4,None] --> recall : 0.9692223138224787 , precision : 0.019097588841420165 , f1-score : 0.037457121313494976\n"
     ]
    },
    {
     "name": "stderr",
     "output_type": "stream",
     "text": [
      "C:\\Users\\SURAJ KUMAR\\AppData\\Local\\conda\\conda\\envs\\PythonCPU\\lib\\site-packages\\sklearn\\metrics\\_classification.py:1272: UndefinedMetricWarning: Precision is ill-defined and being set to 0.0 due to no predicted samples. Use `zero_division` parameter to control this behavior.\n",
      "  _warn_prf(average, modifier, msg_start, len(result))\n"
     ]
    },
    {
     "name": "stdout",
     "output_type": "stream",
     "text": [
      "at [100,50,8,balanced] --> recall : 0.0 , precision : 0.0 , f1-score : 0.0\n",
      "at [100,50,8,{0: 1, 1: 9}] --> recall : 0.9846111569112393 , precision : 0.01886603692119757 , f1-score : 0.03702268582381417\n",
      "at [100,50,8,{0: 1, 1: 10}] --> recall : 0.9873591646056609 , precision : 0.018810041096248984 , f1-score : 0.03691678568126008\n",
      "at [100,50,8,{0: 5, 1: 5}] --> recall : 0.005221214619400934 , precision : 0.021158129175946547 , f1-score : 0.008375578576151642\n"
     ]
    },
    {
     "name": "stderr",
     "output_type": "stream",
     "text": [
      "C:\\Users\\SURAJ KUMAR\\AppData\\Local\\conda\\conda\\envs\\PythonCPU\\lib\\site-packages\\sklearn\\metrics\\_classification.py:1272: UndefinedMetricWarning: Precision is ill-defined and being set to 0.0 due to no predicted samples. Use `zero_division` parameter to control this behavior.\n",
      "  _warn_prf(average, modifier, msg_start, len(result))\n"
     ]
    },
    {
     "name": "stdout",
     "output_type": "stream",
     "text": [
      "at [100,50,8,{0: 1, 1: 90}] --> recall : 0.0 , precision : 0.0 , f1-score : 0.0\n",
      "at [100,50,8,{0: 1, 1: 99}] --> recall : 0.0 , precision : 0.0 , f1-score : 0.0\n",
      "at [100,50,8,None] --> recall : 0.396812311074471 , precision : 0.025639659795095793 , f1-score : 0.04816705026852129\n",
      "at [100,50,12,balanced] --> recall : 0.5465787304204451 , precision : 0.01860913335142165 , f1-score : 0.03599283400589928\n",
      "at [100,50,12,{0: 1, 1: 9}] --> recall : 0.9873591646056609 , precision : 0.018810041096248984 , f1-score : 0.03691678568126008\n",
      "at [100,50,12,{0: 1, 1: 10}] --> recall : 0.9873591646056609 , precision : 0.018810041096248984 , f1-score : 0.03691678568126008\n"
     ]
    },
    {
     "name": "stderr",
     "output_type": "stream",
     "text": [
      "C:\\Users\\SURAJ KUMAR\\AppData\\Local\\conda\\conda\\envs\\PythonCPU\\lib\\site-packages\\sklearn\\metrics\\_classification.py:1272: UndefinedMetricWarning: Precision is ill-defined and being set to 0.0 due to no predicted samples. Use `zero_division` parameter to control this behavior.\n",
      "  _warn_prf(average, modifier, msg_start, len(result))\n"
     ]
    },
    {
     "name": "stdout",
     "output_type": "stream",
     "text": [
      "at [100,50,12,{0: 5, 1: 5}] --> recall : 0.0 , precision : 0.0 , f1-score : 0.0\n",
      "at [100,50,12,{0: 1, 1: 90}] --> recall : 0.5342126957955482 , precision : 0.018818791686430917 , f1-score : 0.03635683560875257\n",
      "at [100,50,12,{0: 1, 1: 99}] --> recall : 0.38307227260236326 , precision : 0.025670773253779717 , f1-score : 0.048117082599841224\n"
     ]
    },
    {
     "name": "stderr",
     "output_type": "stream",
     "text": [
      "C:\\Users\\SURAJ KUMAR\\AppData\\Local\\conda\\conda\\envs\\PythonCPU\\lib\\site-packages\\sklearn\\metrics\\_classification.py:1272: UndefinedMetricWarning: Precision is ill-defined and being set to 0.0 due to no predicted samples. Use `zero_division` parameter to control this behavior.\n",
      "  _warn_prf(average, modifier, msg_start, len(result))\n"
     ]
    },
    {
     "name": "stdout",
     "output_type": "stream",
     "text": [
      "at [100,50,12,None] --> recall : 0.0 , precision : 0.0 , f1-score : 0.0\n",
      "at [200,6,4,balanced] --> recall : 0.6114317120087936 , precision : 0.017944706110071616 , f1-score : 0.03486613753711872\n",
      "at [200,6,4,{0: 1, 1: 9}] --> recall : 0.9873591646056609 , precision : 0.018810041096248984 , f1-score : 0.03691678568126008\n",
      "at [200,6,4,{0: 1, 1: 10}] --> recall : 0.9873591646056609 , precision : 0.018810041096248984 , f1-score : 0.03691678568126008\n"
     ]
    },
    {
     "name": "stderr",
     "output_type": "stream",
     "text": [
      "C:\\Users\\SURAJ KUMAR\\AppData\\Local\\conda\\conda\\envs\\PythonCPU\\lib\\site-packages\\sklearn\\metrics\\_classification.py:1272: UndefinedMetricWarning: Precision is ill-defined and being set to 0.0 due to no predicted samples. Use `zero_division` parameter to control this behavior.\n",
      "  _warn_prf(average, modifier, msg_start, len(result))\n"
     ]
    },
    {
     "name": "stdout",
     "output_type": "stream",
     "text": [
      "at [200,6,4,{0: 5, 1: 5}] --> recall : 0.0 , precision : 0.0 , f1-score : 0.0\n",
      "at [200,6,4,{0: 1, 1: 90}] --> recall : 0.6117065127782357 , precision : 0.017871766462739053 , f1-score : 0.034728885352554355\n",
      "at [200,6,4,{0: 1, 1: 99}] --> recall : 0.5619675735092058 , precision : 0.018641920163356092 , f1-score : 0.03608674936914363\n"
     ]
    },
    {
     "name": "stderr",
     "output_type": "stream",
     "text": [
      "C:\\Users\\SURAJ KUMAR\\AppData\\Local\\conda\\conda\\envs\\PythonCPU\\lib\\site-packages\\sklearn\\metrics\\_classification.py:1272: UndefinedMetricWarning: Precision is ill-defined and being set to 0.0 due to no predicted samples. Use `zero_division` parameter to control this behavior.\n",
      "  _warn_prf(average, modifier, msg_start, len(result))\n"
     ]
    },
    {
     "name": "stdout",
     "output_type": "stream",
     "text": [
      "at [200,6,4,None] --> recall : 0.0 , precision : 0.0 , f1-score : 0.0\n"
     ]
    }
   ],
   "source": [
    "from sklearn.ensemble import RandomForestClassifier\n",
    "from sklearn.metrics import make_scorer , f1_score, precision_score, recall_score\n",
    "from sklearn.model_selection import GridSearchCV\n",
    "from Function import Grid_result\n",
    "\n",
    "recall = []\n",
    "precision = []\n",
    "f1_scores = []\n",
    "grid_params = []\n",
    "\n",
    "for n_estimators in [100,200,300]:\n",
    "    for max_depth in [6,10,25,50]:\n",
    "        for min_samples_leaf in [4,8,12]:\n",
    "            for class_weight in ['balanced' , {0:1 , 1:9} , {0:1 , 1:10} , {0:5 , 1:5} , {0:1 , 1:90} , {0:1 , 1:99}, None]:\n",
    "                rf = RandomForestClassifier(n_estimators = n_estimators, max_depth = max_depth, min_samples_leaf = min_samples_leaf, class_weight = class_weight)\n",
    "                rf = rf.fit(train_X_scaled, train_y)\n",
    "                pred_test_y = rf.predict(test_X)\n",
    "                re = recall_score(test_y,pred_test_y)\n",
    "                pre = precision_score(test_y,pred_test_y)\n",
    "                f1 = f1_score(test_y,pred_test_y)\n",
    "                grid_param = '[' + ','.join([str(n_estimators), str(max_depth), str(min_samples_leaf), str(class_weight)]) + ']'\n",
    "                grid_params.append(grid_param) \n",
    "                print(\"at {} --> recall : {} , precision : {} , f1-score : {}\".format(grid_param,re,pre,f1))\n",
    "                recall.append(re)\n",
    "                precision.append(pre)\n",
    "                f1_scores.append(f1)\n",
    "\n",
    "plt.figure(figsize= (40,10))\n",
    "params = len(grid_params)\n",
    "plt.plot(range(params),recall , label = 'recall')\n",
    "plt.plot(range(params),precision , label = 'precision')\n",
    "plt.plot(range(params),f1_scores , label = 'f1-score')\n",
    "plt.xticks(np.arange(params), grid_params) \n",
    "plt.gca().margins(x = 0)\n",
    "plt.gcf().canvas.draw()\n",
    "t1 = plt.gca().get_xticklabels()\n",
    "maxszie = max([t.get_window_extent().width for t in t1])\n",
    "m = 0.2\n",
    "s = maxszie/plt.gcf().dpi*params+2*m\n",
    "margin = m/plt.gcf().get_size_inches()[0]\n",
    "plt.gcf().subplots_adjust(left = margin, right = 1.-margin)\n",
    "plt.gcf().set_size_inches(s, plt.gcf().get_size_inches()[1])\n",
    "plt.legend()\n",
    "plt.show()\n",
    "\n",
    "# OUTPUT \n",
    "# best paramenter on Recall = [100,6,4,{0: 1, 1: 9}]\n",
    "# best parameter on Precision =  [100,10,8,balanced]\n",
    "# best parameter on F1_Score = [100,25,4,{0: 1, 1: 10}]\n",
    "# best parameters on average of all or overall good model = [100,25,4,{0: 1, 1: 10}]"
   ]
  },
  {
   "cell_type": "code",
   "execution_count": null,
   "metadata": {},
   "outputs": [],
   "source": [
    "# random Forest on best parameter\n",
    "# random forest classifier\n",
    "from sklearn.ensemble import RandomForestClassifier\n",
    "clf_RF = RandomForestClassifier(n_estimators = 100, max_depth = 25, min_samples_leaf = 4, class_weight = {0: 1, 1: 10})\n",
    "clf_RF = clf_RF.fit(train_X_scaled,train_y)\n",
    "result(clf_RF,train_X_scaled,train_y,test_X_scaled,test_y)\n",
    "\n",
    "# OUTPUT\n",
    "# Accuracy on test set 0.9812692974447875\n",
    "# Precision on test set 0.24\n",
    "# Recall on test set 0.0016488046166529267\n",
    "# F1 score on test set 0.0032751091703056767"
   ]
  },
  {
   "cell_type": "markdown",
   "metadata": {},
   "source": [
    "### Naive Bayes"
   ]
  },
  {
   "cell_type": "code",
   "execution_count": 5,
   "metadata": {
    "collapsed": true,
    "jupyter": {
     "outputs_hidden": true
    }
   },
   "outputs": [
    {
     "name": "stdout",
     "output_type": "stream",
     "text": [
      "Confusion matrix\n",
      " [[179836  11499]\n",
      " [  2805    834]]\n",
      "Accuracy on test set 0.9266363720290911\n",
      "Precision on test set 0.06762344928241304\n",
      "Recall on test set 0.2291838417147568\n",
      "F1 score on test set 0.10443275732531931\n",
      "Classification report on test\n",
      "\n",
      "              precision    recall  f1-score   support\n",
      "\n",
      "  not sepsis       0.98      0.94      0.96    191335\n",
      "      sepsis       0.07      0.23      0.10      3639\n",
      "\n",
      "    accuracy                           0.93    194974\n",
      "   macro avg       0.53      0.58      0.53    194974\n",
      "weighted avg       0.97      0.93      0.95    194974\n",
      "\n",
      "Confusion matrix on train set\n",
      " [[1254890   77919]\n",
      " [  18851    5426]]\n",
      "Accuracy on train set 0.9286928020773922\n",
      "Precision on train set 0.06510288559601655\n",
      "Recall on train set 0.22350372780821354\n",
      "F1 score on train set 0.10083440188808979\n",
      "Classification report on train\n",
      "\n",
      "              precision    recall  f1-score   support\n",
      "\n",
      "  not sepsis       0.99      0.94      0.96   1332809\n",
      "      sepsis       0.07      0.22      0.10     24277\n",
      "\n",
      "    accuracy                           0.93   1357086\n",
      "   macro avg       0.53      0.58      0.53   1357086\n",
      "weighted avg       0.97      0.93      0.95   1357086\n",
      "\n"
     ]
    }
   ],
   "source": [
    "# naive bayes\n",
    "from sklearn.naive_bayes import GaussianNB\n",
    "clf_NB = GaussianNB()\n",
    "clf_NB = clf_NB.fit(train_X_scaled,train_y)\n",
    "result(clf_NB, train_X_scaled, train_y, test_X_scaled, test_y)\n",
    "\n",
    "# OUTPUT\n",
    "# Accuracy on test set 0.9266363720290911\n",
    "# Precision on test set 0.06762344928241304\n",
    "# Recall on test set 0.2291838417147568\n",
    "# F1 score on test set 0.10443275732531931"
   ]
  },
  {
   "cell_type": "markdown",
   "metadata": {},
   "source": [
    "## data distribution of this data"
   ]
  },
  {
   "cell_type": "code",
   "execution_count": 16,
   "metadata": {},
   "outputs": [
    {
     "name": "stdout",
     "output_type": "stream",
     "text": [
      "shape before and after PCA\n",
      " (1357086, 13) (1357086, 2)\n"
     ]
    },
    {
     "data": {
      "image/png": "[encoded data removed]",
      "text/plain": [
       "<Figure size 1296x504 with 2 Axes>"
      ]
     },
     "metadata": {
      "needs_background": "light"
     },
     "output_type": "display_data"
    }
   ],
   "source": [
    "train_pca_X, test_pca_X = pca(train_X_scaled, train_y, test_X_scaled, 2, ['feature1', 'feature2'])"
   ]
  },
  {
   "cell_type": "code",
   "execution_count": 19,
   "metadata": {},
   "outputs": [
    {
     "data": {
      "text/plain": [
       "Text(0.5, 1.0, 'train data distribution')"
      ]
     },
     "execution_count": 19,
     "metadata": {},
     "output_type": "execute_result"
    },
    {
     "data": {
      "image/png": "[encoded data removed]",
      "text/plain": [
       "<Figure size 432x288 with 1 Axes>"
      ]
     },
     "metadata": {
      "needs_background": "light"
     },
     "output_type": "display_data"
    }
   ],
   "source": [
    "plt.scatter(train_pca_X[0::5000,0],train_pca_X[0::5000,1], c = train_y[0::5000])\n",
    "plt.title('train data distribution')"
   ]
  },
  {
   "cell_type": "code",
   "execution_count": 20,
   "metadata": {},
   "outputs": [
    {
     "data": {
      "text/plain": [
       "Text(0.5, 1.0, 'test data distribution')"
      ]
     },
     "execution_count": 20,
     "metadata": {},
     "output_type": "execute_result"
    },
    {
     "data": {
      "image/png": "[encoded data removed]",
      "text/plain": [
       "<Figure size 432x288 with 1 Axes>"
      ]
     },
     "metadata": {
      "needs_background": "light"
     },
     "output_type": "display_data"
    }
   ],
   "source": [
    "plt.scatter(test_pca_X[0::1000,0],test_pca_X[0::1000,1], c = test_y[0::1000])\n",
    "plt.title('test data distribution')"
   ]
  },
  {
   "cell_type": "markdown",
   "metadata": {},
   "source": [
    "## Data with categorical version"
   ]
  },
  {
   "cell_type": "code",
   "execution_count": 20,
   "metadata": {},
   "outputs": [],
   "source": [
    "# Data with categorical version\n",
    "# changing data to categorical\n",
    "\n",
    "# HR = (normal(60-90), down, high)\n",
    "# DBP = (normal(70-80), lower, higher)\n",
    "# SBP = (normal(100-120), lower, higher)\n",
    "# Age = (children(< = 14), teenage(15-21),adult(21-45), old(>45))\n",
    "# Temp = (normal(35-38), lower, higher)\n",
    "# Resp = (normal(14-18), lower, higher)\n",
    "# pH = (normal(7.35 - 7.45), lower, higher)\n",
    "# Platelets = (normal(240 - 300), lower, higher)\n",
    "bin_age = [0,14,21,45,120]\n",
    "label_age = ['children', 'teen', 'adult', 'old']\n",
    "bin_HR = [0,60,90,200]\n",
    "label_HR = ['down', 'normal', 'higher']\n",
    "bin_SBP = [0,100,121,300]\n",
    "label_SBP = ['down', 'normal', 'higher']\n",
    "bin_DBP = [0,70,81,300]\n",
    "label_DBP = ['down', 'normal', 'higher']\n",
    "bin_Temp = [0,35,39,70]\n",
    "label_Temp = ['down', 'normal', 'higher']\n",
    "bin_Resp = [0,14,19,40]\n",
    "label_Resp = ['down', 'normal', 'higher']\n",
    "bin_pH = [0,7.35,7.46,10]\n",
    "label_pH = ['down', 'normal', 'higher']\n",
    "bin_Platelets = [0,240,301,1000]\n",
    "label_Platelets = ['down', 'normal', 'higher']\n",
    "train_data['Age'] = pd.cut(train_data['Age'], bins = bin_age, labels = label_age, right = False)\n",
    "test_data['Age'] = pd.cut(test_data['Age'], bins = bin_age, labels = label_age, right = False)\n",
    "train_data['HR'] = pd.cut(train_data['HR'], bins = bin_HR, labels = label_HR, right = False)\n",
    "test_data['HR'] = pd.cut(test_data['HR'], bins = bin_HR, labels = label_HR, right = False)\n",
    "train_data['SBP'] = pd.cut(train_data['SBP'], bins = bin_SBP, labels = label_SBP, right = False)\n",
    "test_data['SBP'] = pd.cut(test_data['SBP'], bins = bin_SBP, labels = label_SBP, right = False)\n",
    "train_data['DBP'] = pd.cut(train_data['DBP'], bins = bin_DBP, labels = label_DBP, right = False)\n",
    "test_data['DBP'] = pd.cut(test_data['DBP'], bins = bin_DBP, labels = label_DBP, right = False)\n",
    "train_data['Temp'] = pd.cut(train_data['Temp'], bins = bin_Temp, labels = label_Temp, right = False)\n",
    "test_data['Temp'] = pd.cut(test_data['Temp'], bins = bin_Temp, labels = label_Temp, right = False)\n",
    "train_data['Resp'] = pd.cut(train_data['Resp'], bins = bin_Resp, labels = label_Resp, right = False)\n",
    "test_data['Resp'] = pd.cut(test_data['Resp'], bins = bin_Resp, labels = label_Resp, right = False)\n",
    "train_data['pH'] = pd.cut(train_data['pH'], bins = bin_pH, labels = label_pH, right = False)\n",
    "test_data['pH'] = pd.cut(test_data['pH'], bins = bin_pH, labels = label_pH, right = False)\n",
    "train_data['Platelets'] = pd.cut(train_data['Platelets'], bins = bin_Platelets, labels = label_Platelets, right = False)\n",
    "test_data['Platelets'] = pd.cut(test_data['Platelets'], bins = bin_Platelets, labels = label_Platelets, right = False)"
   ]
  },
  {
   "cell_type": "code",
   "execution_count": 21,
   "metadata": {},
   "outputs": [],
   "source": [
    "train_data = pd.get_dummies(train_data)\n",
    "test_data = pd.get_dummies(test_data)\n",
    "col_seq = [i for i in train_data.columns if i != 'SepsisLabel']\n",
    "col_seq.append('SepsisLabel')\n",
    "train_data = train_data.reindex(columns = col_seq)\n",
    "test_data = test_data.reindex(columns = col_seq)"
   ]
  },
  {
   "cell_type": "markdown",
   "metadata": {},
   "source": [
    "#### on all data"
   ]
  },
  {
   "cell_type": "code",
   "execution_count": 22,
   "metadata": {},
   "outputs": [],
   "source": [
    "# scaling\n",
    "train_X, train_y = train_data.iloc[:,0:-1], train_data.iloc[:,-1]\n",
    "test_X, test_y = test_data.iloc[:,0:-1], test_data.iloc[:,-1]\n",
    "std = StandardScaler()\n",
    "train_X_scaled = std.fit_transform(train_X)\n",
    "test_X_scaled = std.transform(test_X)"
   ]
  },
  {
   "cell_type": "markdown",
   "metadata": {},
   "source": [
    "                                                            Decision Tree"
   ]
  },
  {
   "cell_type": "code",
   "execution_count": 28,
   "metadata": {
    "collapsed": true,
    "jupyter": {
     "outputs_hidden": true
    }
   },
   "outputs": [
    {
     "name": "stdout",
     "output_type": "stream",
     "text": [
      "Confusion matrix\n",
      " [[147954  43381]\n",
      " [  1541   2098]]\n",
      "Accuracy on test set 0.7696000492373342\n",
      "Precision on test set 0.04613118142439367\n",
      "Recall on test set 0.57653201428964\n",
      "F1 score on test set 0.0854269310639684\n",
      "Classification report on test\n",
      "\n",
      "              precision    recall  f1-score   support\n",
      "\n",
      "  not sepsis       0.99      0.77      0.87    191335\n",
      "      sepsis       0.05      0.58      0.09      3639\n",
      "\n",
      "    accuracy                           0.77    194974\n",
      "   macro avg       0.52      0.67      0.48    194974\n",
      "weighted avg       0.97      0.77      0.85    194974\n",
      "\n",
      "Confusion matrix on train set\n",
      " [[1041891  290918]\n",
      " [   7220   17057]]\n",
      "Accuracy on train set 0.7803101645732106\n",
      "Precision on train set 0.05538436561409205\n",
      "Recall on train set 0.7025991679367303\n",
      "F1 score on train set 0.10267507795287914\n",
      "Classification report on train\n",
      "\n",
      "              precision    recall  f1-score   support\n",
      "\n",
      "  not sepsis       0.99      0.78      0.87   1332809\n",
      "      sepsis       0.06      0.70      0.10     24277\n",
      "\n",
      "    accuracy                           0.78   1357086\n",
      "   macro avg       0.52      0.74      0.49   1357086\n",
      "weighted avg       0.98      0.78      0.86   1357086\n",
      "\n"
     ]
    }
   ],
   "source": [
    "# decision tree classifier on best hyperparameter\n",
    "from sklearn.tree import DecisionTreeClassifier\n",
    "clf_DTC = DecisionTreeClassifier(max_depth = 10, min_samples_leaf = 8, class_weight = 'balanced')\n",
    "clf_DTC = clf_DTC.fit(train_X_scaled,train_y)\n",
    "result(clf_DTC,train_X_scaled,train_y,test_X_scaled,test_y)\n",
    "\n",
    "# OUTPUT\n",
    "# Accuracy on test set 0.7696000492373342\n",
    "# Precision on test set 0.04613118142439367\n",
    "# Recall on test set 0.57653201428964\n",
    "# F1 score on test set 0.0854269310639684"
   ]
  },
  {
   "cell_type": "markdown",
   "metadata": {},
   "source": [
    "                                                            Random Forest"
   ]
  },
  {
   "cell_type": "code",
   "execution_count": 30,
   "metadata": {
    "collapsed": true,
    "jupyter": {
     "outputs_hidden": true
    }
   },
   "outputs": [
    {
     "name": "stdout",
     "output_type": "stream",
     "text": [
      "Confusion matrix\n",
      " [[188984   2351]\n",
      " [  3361    278]]\n",
      "Accuracy on test set 0.9707037861458451\n",
      "Precision on test set 0.10574362875618105\n",
      "Recall on test set 0.07639461390491893\n",
      "F1 score on test set 0.0887045309508615\n",
      "Classification report on test\n",
      "\n",
      "              precision    recall  f1-score   support\n",
      "\n",
      "  not sepsis       0.98      0.99      0.99    191335\n",
      "      sepsis       0.11      0.08      0.09      3639\n",
      "\n",
      "    accuracy                           0.97    194974\n",
      "   macro avg       0.54      0.53      0.54    194974\n",
      "weighted avg       0.97      0.97      0.97    194974\n",
      "\n",
      "Confusion matrix on train set\n",
      " [[1325506    7303]\n",
      " [  12873   11404]]\n",
      "Accuracy on train set 0.9851328508289084\n",
      "Precision on train set 0.6096113754209654\n",
      "Recall on train set 0.46974502615644437\n",
      "F1 score on train set 0.5306160431788572\n",
      "Classification report on train\n",
      "\n",
      "              precision    recall  f1-score   support\n",
      "\n",
      "  not sepsis       0.99      0.99      0.99   1332809\n",
      "      sepsis       0.61      0.47      0.53     24277\n",
      "\n",
      "    accuracy                           0.99   1357086\n",
      "   macro avg       0.80      0.73      0.76   1357086\n",
      "weighted avg       0.98      0.99      0.98   1357086\n",
      "\n"
     ]
    }
   ],
   "source": [
    "# random Forest on best parameter\n",
    "# random forest classifier\n",
    "from sklearn.ensemble import RandomForestClassifier\n",
    "clf_RF = RandomForestClassifier(n_estimators = 100, max_depth = 25, min_samples_leaf = 4, class_weight = {0: 1, 1: 10})\n",
    "clf_RF = clf_RF.fit(train_X_scaled,train_y)\n",
    "result(clf_RF,train_X_scaled,train_y,test_X_scaled,test_y)\n",
    "\n",
    "# OUTPUT\n",
    "# Accuracy on test set 0.9707037861458451\n",
    "# Precision on test set 0.10574362875618105\n",
    "# Recall on test set 0.07639461390491893\n",
    "# F1 score on test set 0.0887045309508615"
   ]
  },
  {
   "cell_type": "markdown",
   "metadata": {},
   "source": [
    "                                                            Naive Bayes"
   ]
  },
  {
   "cell_type": "code",
   "execution_count": 31,
   "metadata": {
    "collapsed": true,
    "jupyter": {
     "outputs_hidden": true
    }
   },
   "outputs": [
    {
     "name": "stdout",
     "output_type": "stream",
     "text": [
      "Confusion matrix\n",
      " [[174283  17052]\n",
      " [  2882    757]]\n",
      "Accuracy on test set 0.8977607270713018\n",
      "Precision on test set 0.042506597787635464\n",
      "Recall on test set 0.2080241824677109\n",
      "F1 score on test set 0.0705893323386796\n",
      "Classification report on test\n",
      "\n",
      "              precision    recall  f1-score   support\n",
      "\n",
      "  not sepsis       0.98      0.91      0.95    191335\n",
      "      sepsis       0.04      0.21      0.07      3639\n",
      "\n",
      "    accuracy                           0.90    194974\n",
      "   macro avg       0.51      0.56      0.51    194974\n",
      "weighted avg       0.97      0.90      0.93    194974\n",
      "\n",
      "Confusion matrix on train set\n",
      " [[1212751  120058]\n",
      " [  18925    5352]]\n",
      "Accuracy on train set 0.8975871831261983\n",
      "Precision on train set 0.04267602264572203\n",
      "Recall on train set 0.2204555752358199\n",
      "F1 score on train set 0.0715092158971721\n",
      "Classification report on train\n",
      "\n",
      "              precision    recall  f1-score   support\n",
      "\n",
      "  not sepsis       0.98      0.91      0.95   1332809\n",
      "      sepsis       0.04      0.22      0.07     24277\n",
      "\n",
      "    accuracy                           0.90   1357086\n",
      "   macro avg       0.51      0.57      0.51   1357086\n",
      "weighted avg       0.97      0.90      0.93   1357086\n",
      "\n"
     ]
    }
   ],
   "source": [
    "# naive bayes\n",
    "from sklearn.naive_bayes import GaussianNB\n",
    "clf_NB = GaussianNB()\n",
    "clf_NB = clf_NB.fit(train_X_scaled,train_y)\n",
    "result(clf_NB, train_X_scaled, train_y, test_X_scaled, test_y)\n",
    "\n",
    "# OUTPUT\n",
    "# Accuracy on test set 0.8977607270713018\n",
    "# Precision on test set 0.042506597787635464\n",
    "# Recall on test set 0.2080241824677109\n",
    "# F1 score on test set 0.0705893323386796"
   ]
  },
  {
   "cell_type": "markdown",
   "metadata": {},
   "source": [
    "### categorical data with seleted feature"
   ]
  },
  {
   "cell_type": "code",
   "execution_count": 4,
   "metadata": {},
   "outputs": [
    {
     "name": "stdout",
     "output_type": "stream",
     "text": [
      "(1357086, 30) (194974, 30)\n"
     ]
    }
   ],
   "source": [
    "# categorical data with selected feature manually\n",
    "features = ['HR', 'Temp', 'DBP', 'SBP', 'Resp', 'Platelets', 'Calcium', 'Glucose', 'Age', 'Gender', 'HospAdmTime', 'ICULOS','pH', 'SepsisLabel']\n",
    "train_data = train_data[features]\n",
    "test_data = test_data[features]\n",
    "\n",
    "train_data = pd.get_dummies(train_data)\n",
    "test_data = pd.get_dummies(test_data)\n",
    "col_seq = [i for i in train_data.columns if i != 'SepsisLabel']\n",
    "col_seq.append('SepsisLabel')\n",
    "train_data = train_data.reindex(columns = col_seq)\n",
    "test_data = test_data.reindex(columns = col_seq)\n",
    "\n",
    "train_X = train_data.iloc[:,0:-1]\n",
    "train_y = train_data.iloc[:,-1]\n",
    "test_X = test_data.iloc[:,0:-1]\n",
    "test_y = test_data.iloc[:,-1]\n",
    "print(train_X.shape,test_X.shape)\n",
    "# scaling\n",
    "std = StandardScaler()\n",
    "train_X_scaled = std.fit_transform(train_X)\n",
    "test_X_scaled = std.transform(test_X)"
   ]
  },
  {
   "cell_type": "markdown",
   "metadata": {},
   "source": [
    "                                                        Decision Tree"
   ]
  },
  {
   "cell_type": "code",
   "execution_count": 5,
   "metadata": {
    "collapsed": true,
    "jupyter": {
     "outputs_hidden": true
    }
   },
   "outputs": [
    {
     "name": "stdout",
     "output_type": "stream",
     "text": [
      "Confusion matrix\n",
      " [[149191  42144]\n",
      " [  1612   2027]]\n",
      "Accuracy on test set 0.7755803337880949\n",
      "Precision on test set 0.04588983722351769\n",
      "Recall on test set 0.557021159659247\n",
      "F1 score on test set 0.08479397615561599\n",
      "Classification report on test\n",
      "\n",
      "              precision    recall  f1-score   support\n",
      "\n",
      "  not sepsis       0.99      0.78      0.87    191335\n",
      "      sepsis       0.05      0.56      0.08      3639\n",
      "\n",
      "    accuracy                           0.78    194974\n",
      "   macro avg       0.52      0.67      0.48    194974\n",
      "weighted avg       0.97      0.78      0.86    194974\n",
      "\n",
      "Confusion matrix on train set\n",
      " [[1043743  289066]\n",
      " [   7985   16292]]\n",
      "Accuracy on train set 0.7811111454985167\n",
      "Precision on train set 0.05335376836369114\n",
      "Recall on train set 0.6710878609383367\n",
      "F1 score on train set 0.09884872662186964\n",
      "Classification report on train\n",
      "\n",
      "              precision    recall  f1-score   support\n",
      "\n",
      "  not sepsis       0.99      0.78      0.88   1332809\n",
      "      sepsis       0.05      0.67      0.10     24277\n",
      "\n",
      "    accuracy                           0.78   1357086\n",
      "   macro avg       0.52      0.73      0.49   1357086\n",
      "weighted avg       0.98      0.78      0.86   1357086\n",
      "\n"
     ]
    }
   ],
   "source": [
    "# decision tree classifier on best hyperparameter\n",
    "from sklearn.tree import DecisionTreeClassifier\n",
    "clf_DTC = DecisionTreeClassifier(max_depth = 10, min_samples_leaf = 8, class_weight = 'balanced')\n",
    "clf_DTC = clf_DTC.fit(train_X_scaled,train_y)\n",
    "result(clf_DTC,train_X_scaled,train_y,test_X_scaled,test_y)\n",
    "\n",
    "# OUTPUT\n",
    "# Accuracy on test set 0.7755803337880949\n",
    "# Precision on test set 0.04588983722351769\n",
    "# Recall on test set 0.557021159659247\n",
    "# F1 score on test set 0.08479397615561599"
   ]
  },
  {
   "cell_type": "markdown",
   "metadata": {},
   "source": [
    "                                                        Random Forest"
   ]
  },
  {
   "cell_type": "code",
   "execution_count": 6,
   "metadata": {
    "collapsed": true,
    "jupyter": {
     "outputs_hidden": true
    }
   },
   "outputs": [
    {
     "name": "stdout",
     "output_type": "stream",
     "text": [
      "Confusion matrix\n",
      " [[187817   3518]\n",
      " [  3173    466]]\n",
      "Accuracy on test set 0.9656826038343574\n",
      "Precision on test set 0.11696787148594377\n",
      "Recall on test set 0.12805715856004396\n",
      "F1 score on test set 0.12226157680703134\n",
      "Classification report on test\n",
      "\n",
      "              precision    recall  f1-score   support\n",
      "\n",
      "  not sepsis       0.98      0.98      0.98    191335\n",
      "      sepsis       0.12      0.13      0.12      3639\n",
      "\n",
      "    accuracy                           0.97    194974\n",
      "   macro avg       0.55      0.55      0.55    194974\n",
      "weighted avg       0.97      0.97      0.97    194974\n",
      "\n",
      "Confusion matrix on train set\n",
      " [[1319788   13021]\n",
      " [  14419    9858]]\n",
      "Accuracy on train set 0.9797802055286106\n",
      "Precision on train set 0.4308754753267188\n",
      "Recall on train set 0.40606335214400463\n",
      "F1 score on train set 0.4181016201543812\n",
      "Classification report on train\n",
      "\n",
      "              precision    recall  f1-score   support\n",
      "\n",
      "  not sepsis       0.99      0.99      0.99   1332809\n",
      "      sepsis       0.43      0.41      0.42     24277\n",
      "\n",
      "    accuracy                           0.98   1357086\n",
      "   macro avg       0.71      0.70      0.70   1357086\n",
      "weighted avg       0.98      0.98      0.98   1357086\n",
      "\n"
     ]
    }
   ],
   "source": [
    "# random Forest on best parameter\n",
    "# random forest classifier\n",
    "from sklearn.ensemble import RandomForestClassifier\n",
    "clf_RF = RandomForestClassifier(n_estimators = 100, max_depth = 25, min_samples_leaf = 4, class_weight = {0: 1, 1: 10})\n",
    "clf_RF = clf_RF.fit(train_X_scaled,train_y)\n",
    "result(clf_RF,train_X_scaled,train_y,test_X_scaled,test_y)\n",
    "\n",
    "# OUTPUT\n",
    "# Accuracy on test set 0.9656826038343574\n",
    "# Precision on test set 0.11696787148594377\n",
    "# Recall on test set 0.12805715856004396\n",
    "# F1 score on test set 0.12226157680703134"
   ]
  },
  {
   "cell_type": "code",
   "execution_count": 7,
   "metadata": {
    "collapsed": true,
    "jupyter": {
     "outputs_hidden": true
    }
   },
   "outputs": [
    {
     "name": "stdout",
     "output_type": "stream",
     "text": [
      "Confusion matrix\n",
      " [[179983  11352]\n",
      " [  2932    707]]\n",
      "Accuracy on test set 0.9267389498086924\n",
      "Precision on test set 0.058628410315946594\n",
      "Recall on test set 0.19428414399560318\n",
      "F1 score on test set 0.09007516881131353\n",
      "Classification report on test\n",
      "\n",
      "              precision    recall  f1-score   support\n",
      "\n",
      "  not sepsis       0.98      0.94      0.96    191335\n",
      "      sepsis       0.06      0.19      0.09      3639\n",
      "\n",
      "    accuracy                           0.93    194974\n",
      "   macro avg       0.52      0.57      0.53    194974\n",
      "weighted avg       0.97      0.93      0.95    194974\n",
      "\n",
      "Confusion matrix on train set\n",
      " [[1254981   77828]\n",
      " [  19711    4566]]\n",
      "Accuracy on train set 0.9281261467585694\n",
      "Precision on train set 0.0554166565526616\n",
      "Recall on train set 0.18807925196688224\n",
      "F1 score on train set 0.08560902213347583\n",
      "Classification report on train\n",
      "\n",
      "              precision    recall  f1-score   support\n",
      "\n",
      "  not sepsis       0.98      0.94      0.96   1332809\n",
      "      sepsis       0.06      0.19      0.09     24277\n",
      "\n",
      "    accuracy                           0.93   1357086\n",
      "   macro avg       0.52      0.56      0.52   1357086\n",
      "weighted avg       0.97      0.93      0.95   1357086\n",
      "\n"
     ]
    }
   ],
   "source": [
    "# naive bayes\n",
    "from sklearn.naive_bayes import GaussianNB\n",
    "clf_NB = GaussianNB()\n",
    "clf_NB = clf_NB.fit(train_X_scaled,train_y)\n",
    "result(clf_NB, train_X_scaled, train_y, test_X_scaled, test_y)\n",
    "\n",
    "# OUTPUT\n",
    "# Accuracy on test set 0.9267389498086924\n",
    "# Precision on test set 0.058628410315946594\n",
    "# Recall on test set 0.19428414399560318\n",
    "# F1 score on test set 0.09007516881131353"
   ]
  },
  {
   "cell_type": "markdown",
   "metadata": {},
   "source": [
    "## Using Data balancing Technique"
   ]
  },
  {
   "cell_type": "markdown",
   "metadata": {},
   "source": [
    "### On Raw Data"
   ]
  },
  {
   "cell_type": "markdown",
   "metadata": {},
   "source": [
    "#### Balance Bagging Classifier"
   ]
  },
  {
   "cell_type": "code",
   "execution_count": 8,
   "metadata": {
    "collapsed": true,
    "jupyter": {
     "outputs_hidden": true
    }
   },
   "outputs": [
    {
     "name": "stdout",
     "output_type": "stream",
     "text": [
      "Confusion matrix\n",
      " [[154426  36909]\n",
      " [  1510   2129]]\n",
      "Accuracy on test set 0.8029532142747238\n",
      "Precision on test set 0.05453660535888109\n",
      "Recall on test set 0.5850508381423468\n",
      "F1 score on test set 0.09977271129648291\n",
      "Classification report on test\n",
      "\n",
      "              precision    recall  f1-score   support\n",
      "\n",
      "  not sepsis       0.99      0.81      0.89    191335\n",
      "      sepsis       0.05      0.59      0.10      3639\n",
      "\n",
      "    accuracy                           0.80    194974\n",
      "   macro avg       0.52      0.70      0.49    194974\n",
      "weighted avg       0.97      0.80      0.87    194974\n",
      "\n",
      "Confusion matrix on train set\n",
      " [[1082560  250249]\n",
      " [   6833   17444]]\n",
      "Accuracy on train set 0.810563221490753\n",
      "Precision on train set 0.06516419928799035\n",
      "Recall on train set 0.7185401820653293\n",
      "F1 score on train set 0.11949172860225366\n",
      "Classification report on train\n",
      "\n",
      "              precision    recall  f1-score   support\n",
      "\n",
      "  not sepsis       0.99      0.81      0.89   1332809\n",
      "      sepsis       0.07      0.72      0.12     24277\n",
      "\n",
      "    accuracy                           0.81   1357086\n",
      "   macro avg       0.53      0.77      0.51   1357086\n",
      "weighted avg       0.98      0.81      0.88   1357086\n",
      "\n"
     ]
    }
   ],
   "source": [
    "# decision tree classifier on best hyperparameter\n",
    "from sklearn.tree import DecisionTreeClassifier\n",
    "clf_DTC = DecisionTreeClassifier(max_depth = 10, min_samples_leaf = 8, class_weight = 'balanced')\n",
    "bb_clf = BalancedBaggingClassifier(base_estimator = clf_DTC  , sampling_strategy = 'auto' ,replacement = False ,random_state = 0).fit(train_X_scaled,train_y)\n",
    "result(bb_clf,train_X_scaled,train_y,test_X_scaled,test_y)\n",
    "\n",
    "# OUTPUT\n",
    "# Accuracy on test set 0.8029532142747238\n",
    "# Precision on test set 0.05453660535888109\n",
    "# Recall on test set 0.5850508381423468\n",
    "# F1 score on test set 0.09977271129648291"
   ]
  },
  {
   "cell_type": "code",
   "execution_count": 12,
   "metadata": {
    "collapsed": true,
    "jupyter": {
     "outputs_hidden": true
    }
   },
   "outputs": [
    {
     "name": "stderr",
     "output_type": "stream",
     "text": [
      "ERROR:root:Internal Python error in the inspect module.\n",
      "Below is the traceback from this internal error.\n",
      "\n"
     ]
    },
    {
     "name": "stdout",
     "output_type": "stream",
     "text": [
      "Traceback (most recent call last):\n",
      "  File \"C:\\Users\\SURAJ KUMAR\\AppData\\Local\\conda\\conda\\envs\\PythonCPU\\lib\\site-packages\\IPython\\core\\interactiveshell.py\", line 3331, in run_code\n",
      "    exec(code_obj, self.user_global_ns, self.user_ns)\n",
      "  File \"<ipython-input-12-c92515146fe8>\", line 4, in <module>\n",
      "    bb_clf = BalancedBaggingClassifier(base_estimator = clf_RF  , sampling_strategy = 'auto' ,replacement = False ,random_state = 0).fit(train_X_scaled,train_y)\n",
      "  File \"C:\\Users\\SURAJ KUMAR\\AppData\\Local\\conda\\conda\\envs\\PythonCPU\\lib\\site-packages\\imblearn\\ensemble\\_bagging.py\", line 263, in fit\n",
      "    return self._fit(X, y, self.max_samples, sample_weight=None)\n",
      "  File \"C:\\Users\\SURAJ KUMAR\\AppData\\Local\\conda\\conda\\envs\\PythonCPU\\lib\\site-packages\\sklearn\\ensemble\\_bagging.py\", line 380, in _fit\n",
      "    for i in range(n_jobs))\n",
      "  File \"C:\\Users\\SURAJ KUMAR\\AppData\\Local\\conda\\conda\\envs\\PythonCPU\\lib\\site-packages\\joblib\\parallel.py\", line 1004, in __call__\n",
      "    if self.dispatch_one_batch(iterator):\n",
      "  File \"C:\\Users\\SURAJ KUMAR\\AppData\\Local\\conda\\conda\\envs\\PythonCPU\\lib\\site-packages\\joblib\\parallel.py\", line 835, in dispatch_one_batch\n",
      "    self._dispatch(tasks)\n",
      "  File \"C:\\Users\\SURAJ KUMAR\\AppData\\Local\\conda\\conda\\envs\\PythonCPU\\lib\\site-packages\\joblib\\parallel.py\", line 754, in _dispatch\n",
      "    job = self._backend.apply_async(batch, callback=cb)\n",
      "  File \"C:\\Users\\SURAJ KUMAR\\AppData\\Local\\conda\\conda\\envs\\PythonCPU\\lib\\site-packages\\joblib\\_parallel_backends.py\", line 209, in apply_async\n",
      "    result = ImmediateResult(func)\n",
      "  File \"C:\\Users\\SURAJ KUMAR\\AppData\\Local\\conda\\conda\\envs\\PythonCPU\\lib\\site-packages\\joblib\\_parallel_backends.py\", line 590, in __init__\n",
      "    self.results = batch()\n",
      "  File \"C:\\Users\\SURAJ KUMAR\\AppData\\Local\\conda\\conda\\envs\\PythonCPU\\lib\\site-packages\\joblib\\parallel.py\", line 256, in __call__\n",
      "    for func, args, kwargs in self.items]\n",
      "  File \"C:\\Users\\SURAJ KUMAR\\AppData\\Local\\conda\\conda\\envs\\PythonCPU\\lib\\site-packages\\joblib\\parallel.py\", line 256, in <listcomp>\n",
      "    for func, args, kwargs in self.items]\n",
      "  File \"C:\\Users\\SURAJ KUMAR\\AppData\\Local\\conda\\conda\\envs\\PythonCPU\\lib\\site-packages\\sklearn\\ensemble\\_bagging.py\", line 113, in _parallel_build_estimators\n",
      "    estimator.fit((X[indices])[:, features], y[indices])\n",
      "  File \"C:\\Users\\SURAJ KUMAR\\AppData\\Local\\conda\\conda\\envs\\PythonCPU\\lib\\site-packages\\imblearn\\pipeline.py\", line 287, in fit\n",
      "    Xt, yt, fit_params = self._fit(X, y, **fit_params)\n",
      "  File \"C:\\Users\\SURAJ KUMAR\\AppData\\Local\\conda\\conda\\envs\\PythonCPU\\lib\\site-packages\\imblearn\\pipeline.py\", line 249, in _fit\n",
      "    **fit_params_steps[name]\n",
      "  File \"C:\\Users\\SURAJ KUMAR\\AppData\\Local\\conda\\conda\\envs\\PythonCPU\\lib\\site-packages\\joblib\\memory.py\", line 355, in __call__\n",
      "    return self.func(*args, **kwargs)\n",
      "  File \"C:\\Users\\SURAJ KUMAR\\AppData\\Local\\conda\\conda\\envs\\PythonCPU\\lib\\site-packages\\imblearn\\pipeline.py\", line 414, in _fit_resample_one\n",
      "    X_res, y_res = sampler.fit_resample(X, y, **fit_params)\n",
      "  File \"C:\\Users\\SURAJ KUMAR\\AppData\\Local\\conda\\conda\\envs\\PythonCPU\\lib\\site-packages\\imblearn\\base.py\", line 83, in fit_resample\n",
      "    output = self._fit_resample(X, y)\n",
      "  File \"C:\\Users\\SURAJ KUMAR\\AppData\\Local\\conda\\conda\\envs\\PythonCPU\\lib\\site-packages\\imblearn\\under_sampling\\_prototype_selection\\_random_under_sampler.py\", line 98, in _fit_resample\n",
      "    for target_class in np.unique(y):\n",
      "  File \"C:\\Users\\SURAJ KUMAR\\AppData\\Local\\conda\\conda\\envs\\PythonCPU\\lib\\site-packages\\numpy\\lib\\arraysetops.py\", line 264, in unique\n",
      "    ret = _unique1d(ar, return_index, return_inverse, return_counts)\n",
      "  File \"C:\\Users\\SURAJ KUMAR\\AppData\\Local\\conda\\conda\\envs\\PythonCPU\\lib\\site-packages\\numpy\\lib\\arraysetops.py\", line 312, in _unique1d\n",
      "    ar.sort()\n",
      "KeyboardInterrupt\n",
      "\n",
      "During handling of the above exception, another exception occurred:\n",
      "\n",
      "Traceback (most recent call last):\n",
      "  File \"C:\\Users\\SURAJ KUMAR\\AppData\\Local\\conda\\conda\\envs\\PythonCPU\\lib\\site-packages\\IPython\\core\\interactiveshell.py\", line 2044, in showtraceback\n",
      "    stb = value._render_traceback_()\n",
      "AttributeError: 'KeyboardInterrupt' object has no attribute '_render_traceback_'\n",
      "\n",
      "During handling of the above exception, another exception occurred:\n",
      "\n",
      "Traceback (most recent call last):\n",
      "  File \"C:\\Users\\SURAJ KUMAR\\AppData\\Local\\conda\\conda\\envs\\PythonCPU\\lib\\site-packages\\IPython\\core\\ultratb.py\", line 1148, in get_records\n",
      "    return _fixed_getinnerframes(etb, number_of_lines_of_context, tb_offset)\n",
      "  File \"C:\\Users\\SURAJ KUMAR\\AppData\\Local\\conda\\conda\\envs\\PythonCPU\\lib\\site-packages\\IPython\\core\\ultratb.py\", line 316, in wrapped\n",
      "    return f(*args, **kwargs)\n",
      "  File \"C:\\Users\\SURAJ KUMAR\\AppData\\Local\\conda\\conda\\envs\\PythonCPU\\lib\\site-packages\\IPython\\core\\ultratb.py\", line 350, in _fixed_getinnerframes\n",
      "    records = fix_frame_records_filenames(inspect.getinnerframes(etb, context))\n",
      "  File \"C:\\Users\\SURAJ KUMAR\\AppData\\Local\\conda\\conda\\envs\\PythonCPU\\lib\\inspect.py\", line 1488, in getinnerframes\n",
      "    frameinfo = (tb.tb_frame,) + getframeinfo(tb, context)\n",
      "  File \"C:\\Users\\SURAJ KUMAR\\AppData\\Local\\conda\\conda\\envs\\PythonCPU\\lib\\inspect.py\", line 1446, in getframeinfo\n",
      "    filename = getsourcefile(frame) or getfile(frame)\n",
      "  File \"C:\\Users\\SURAJ KUMAR\\AppData\\Local\\conda\\conda\\envs\\PythonCPU\\lib\\inspect.py\", line 696, in getsourcefile\n",
      "    if getattr(getmodule(object, filename), '__loader__', None) is not None:\n",
      "  File \"C:\\Users\\SURAJ KUMAR\\AppData\\Local\\conda\\conda\\envs\\PythonCPU\\lib\\inspect.py\", line 732, in getmodule\n",
      "    for modname, module in list(sys.modules.items()):\n",
      "KeyboardInterrupt\n"
     ]
    },
    {
     "ename": "KeyboardInterrupt",
     "evalue": "",
     "output_type": "error",
     "traceback": [
      "\u001b[1;31m---------------------------------------------------------------------------\u001b[0m"
     ]
    }
   ],
   "source": [
    "# Random Forest classifier on best hyperparameter\n",
    "from sklearn.ensemble import RandomForestClassifier\n",
    "clf_RF = RandomForestClassifier(n_estimators = 100, max_depth = 25, min_samples_leaf = 4, class_weight = {0: 1, 1: 10})\n",
    "bb_clf = BalancedBaggingClassifier(base_estimator = clf_RF  , sampling_strategy = 'auto' ,replacement = False ,random_state = 0).fit(train_X_scaled,train_y)\n",
    "result(bb_clf,train_X_scaled,train_y,test_X_scaled,test_y)\n",
    "\n",
    "# OUTPUT\n",
    "# Accuracy on test set 0.41542974960764\n",
    "# Precision on test set 0.027646731452545058\n",
    "# Recall on test set 0.8873316845287167\n",
    "# F1 score on test set 0.05362273112244051"
   ]
  },
  {
   "cell_type": "code",
   "execution_count": 13,
   "metadata": {
    "collapsed": true,
    "jupyter": {
     "outputs_hidden": true
    }
   },
   "outputs": [
    {
     "name": "stdout",
     "output_type": "stream",
     "text": [
      "Confusion matrix\n",
      " [[169982  21353]\n",
      " [  2627   1012]]\n",
      "Accuracy on test set 0.8770092422579421\n",
      "Precision on test set 0.0452492734182875\n",
      "Recall on test set 0.2780983786754603\n",
      "F1 score on test set 0.077834179357022\n",
      "Classification report on test\n",
      "\n",
      "              precision    recall  f1-score   support\n",
      "\n",
      "  not sepsis       0.98      0.89      0.93    191335\n",
      "      sepsis       0.05      0.28      0.08      3639\n",
      "\n",
      "    accuracy                           0.88    194974\n",
      "   macro avg       0.52      0.58      0.51    194974\n",
      "weighted avg       0.97      0.88      0.92    194974\n",
      "\n",
      "Confusion matrix on train set\n",
      " [[1182439  150370]\n",
      " [  17417    6860]]\n",
      "Accuracy on train set 0.8763622939150504\n",
      "Precision on train set 0.0436303504420276\n",
      "Recall on train set 0.28257198171108455\n",
      "F1 score on train set 0.07558937120882389\n",
      "Classification report on train\n",
      "\n",
      "              precision    recall  f1-score   support\n",
      "\n",
      "  not sepsis       0.99      0.89      0.93   1332809\n",
      "      sepsis       0.04      0.28      0.08     24277\n",
      "\n",
      "    accuracy                           0.88   1357086\n",
      "   macro avg       0.51      0.58      0.50   1357086\n",
      "weighted avg       0.97      0.88      0.92   1357086\n",
      "\n"
     ]
    }
   ],
   "source": [
    "# naive bayes\n",
    "from sklearn.naive_bayes import GaussianNB\n",
    "clf_NB = GaussianNB()\n",
    "bb_clf = BalancedBaggingClassifier(base_estimator = clf_NB  , sampling_strategy = 'auto' ,replacement = False ,random_state = 0).fit(train_X_scaled,train_y)\n",
    "result(bb_clf,train_X_scaled,train_y,test_X_scaled,test_y)\n",
    "\n",
    "# OUTPUT\n",
    "# Accuracy on test set 0.7755803337880949\n",
    "# Precision on test set 0.04588983722351769\n",
    "# Recall on test set 0.557021159659247\n",
    "# F1 score on test set 0.08479397615561599"
   ]
  },
  {
   "cell_type": "markdown",
   "metadata": {},
   "source": [
    "### on selected feature data"
   ]
  },
  {
   "cell_type": "markdown",
   "metadata": {},
   "source": [
    "#### Balance Bagging Classifier"
   ]
  },
  {
   "cell_type": "code",
   "execution_count": 16,
   "metadata": {
    "collapsed": true,
    "jupyter": {
     "outputs_hidden": true
    }
   },
   "outputs": [
    {
     "name": "stdout",
     "output_type": "stream",
     "text": [
      "Confusion matrix\n",
      " [[155463  35872]\n",
      " [  1627   2012]]\n",
      "Accuracy on test set 0.8076717921363874\n",
      "Precision on test set 0.05310949213388238\n",
      "Recall on test set 0.5528991481176148\n",
      "F1 score on test set 0.09691014618404258\n",
      "Classification report on test\n",
      "\n",
      "              precision    recall  f1-score   support\n",
      "\n",
      "  not sepsis       0.99      0.81      0.89    191335\n",
      "      sepsis       0.05      0.55      0.10      3639\n",
      "\n",
      "    accuracy                           0.81    194974\n",
      "   macro avg       0.52      0.68      0.49    194974\n",
      "weighted avg       0.97      0.81      0.88    194974\n",
      "\n",
      "Confusion matrix on train set\n",
      " [[1092230  240579]\n",
      " [   7440   16837]]\n",
      "Accuracy on train set 0.8172415012755271\n",
      "Precision on train set 0.06540774466233645\n",
      "Recall on train set 0.693537092721506\n",
      "F1 score on train set 0.11954148665391047\n",
      "Classification report on train\n",
      "\n",
      "              precision    recall  f1-score   support\n",
      "\n",
      "  not sepsis       0.99      0.82      0.90   1332809\n",
      "      sepsis       0.07      0.69      0.12     24277\n",
      "\n",
      "    accuracy                           0.82   1357086\n",
      "   macro avg       0.53      0.76      0.51   1357086\n",
      "weighted avg       0.98      0.82      0.88   1357086\n",
      "\n"
     ]
    }
   ],
   "source": [
    "# decision tree classifier on best hyperparameter\n",
    "from sklearn.tree import DecisionTreeClassifier\n",
    "clf_DTC = DecisionTreeClassifier(max_depth = 10, min_samples_leaf = 8, class_weight = 'balanced')\n",
    "bb_clf = BalancedBaggingClassifier(base_estimator = clf_DTC  , sampling_strategy = 'auto' ,replacement = False ,random_state = 0).fit(train_X_scaled,train_y)\n",
    "result(bb_clf,train_X_scaled,train_y,test_X_scaled,test_y)\n",
    "\n",
    "# OUTPUT\n",
    "# Accuracy on test set 0.8076717921363874\n",
    "# Precision on test set 0.05310949213388238\n",
    "# Recall on test set 0.5528991481176148\n",
    "# F1 score on test set 0.09691014618404258"
   ]
  },
  {
   "cell_type": "code",
   "execution_count": 17,
   "metadata": {
    "collapsed": true,
    "jupyter": {
     "outputs_hidden": true
    }
   },
   "outputs": [
    {
     "name": "stdout",
     "output_type": "stream",
     "text": [
      "Confusion matrix\n",
      " [[97987 93348]\n",
      " [  652  2987]]\n",
      "Accuracy on test set 0.5178844358735011\n",
      "Precision on test set 0.03100638397259563\n",
      "Recall on test set 0.8208298983237153\n",
      "F1 score on test set 0.05975553643947427\n",
      "Classification report on test\n",
      "\n",
      "              precision    recall  f1-score   support\n",
      "\n",
      "  not sepsis       0.99      0.51      0.68    191335\n",
      "      sepsis       0.03      0.82      0.06      3639\n",
      "\n",
      "    accuracy                           0.52    194974\n",
      "   macro avg       0.51      0.67      0.37    194974\n",
      "weighted avg       0.98      0.52      0.66    194974\n",
      "\n",
      "Confusion matrix on train set\n",
      " [[695635 637174]\n",
      " [    44  24233]]\n",
      "Accuracy on train set 0.530451275748184\n",
      "Precision on train set 0.036638559918476823\n",
      "Recall on train set 0.9981875849569551\n",
      "F1 score on train set 0.07068270515281093\n",
      "Classification report on train\n",
      "\n",
      "              precision    recall  f1-score   support\n",
      "\n",
      "  not sepsis       1.00      0.52      0.69   1332809\n",
      "      sepsis       0.04      1.00      0.07     24277\n",
      "\n",
      "    accuracy                           0.53   1357086\n",
      "   macro avg       0.52      0.76      0.38   1357086\n",
      "weighted avg       0.98      0.53      0.67   1357086\n",
      "\n"
     ]
    }
   ],
   "source": [
    "# Random Forest classifier on best hyperparameter\n",
    "from sklearn.ensemble import RandomForestClassifier\n",
    "clf_RF = RandomForestClassifier(n_estimators = 100, max_depth = 25, min_samples_leaf = 4, class_weight = {0: 1, 1: 10})\n",
    "bb_clf = BalancedBaggingClassifier(base_estimator = clf_RF  , sampling_strategy = 'auto' ,replacement = False ,random_state = 0).fit(train_X_scaled,train_y)\n",
    "result(bb_clf,train_X_scaled,train_y,test_X_scaled,test_y)\n",
    "\n",
    "# OUTPUT\n",
    "# Accuracy on test set 0.5178844358735011\n",
    "# Precision on test set 0.03100638397259563\n",
    "# Recall on test set 0.8208298983237153\n",
    "# F1 score on test set 0.05975553643947427"
   ]
  },
  {
   "cell_type": "code",
   "execution_count": 18,
   "metadata": {},
   "outputs": [
    {
     "name": "stdout",
     "output_type": "stream",
     "text": [
      "Confusion matrix\n",
      " [[165033  26302]\n",
      " [  2250   1389]]\n",
      "Accuracy on test set 0.853559961841066\n",
      "Precision on test set 0.050160702033151566\n",
      "Recall on test set 0.3816982687551525\n",
      "F1 score on test set 0.08866900734120652\n",
      "Classification report on test\n",
      "\n",
      "              precision    recall  f1-score   support\n",
      "\n",
      "  not sepsis       0.99      0.86      0.92    191335\n",
      "      sepsis       0.05      0.38      0.09      3639\n",
      "\n",
      "    accuracy                           0.85    194974\n",
      "   macro avg       0.52      0.62      0.50    194974\n",
      "weighted avg       0.97      0.85      0.90    194974\n",
      "\n",
      "Confusion matrix on train set\n",
      " [[1153136  179673]\n",
      " [  14136   10141]]\n",
      "Accuracy on train set 0.8571873853241431\n",
      "Precision on train set 0.05342598543837652\n",
      "Recall on train set 0.41772047617086133\n",
      "F1 score on train set 0.0947354162482309\n",
      "Classification report on train\n",
      "\n",
      "              precision    recall  f1-score   support\n",
      "\n",
      "  not sepsis       0.99      0.87      0.92   1332809\n",
      "      sepsis       0.05      0.42      0.09     24277\n",
      "\n",
      "    accuracy                           0.86   1357086\n",
      "   macro avg       0.52      0.64      0.51   1357086\n",
      "weighted avg       0.97      0.86      0.91   1357086\n",
      "\n"
     ]
    }
   ],
   "source": [
    "# naive bayes\n",
    "from sklearn.naive_bayes import GaussianNB\n",
    "clf_NB = GaussianNB()\n",
    "bb_clf = BalancedBaggingClassifier(base_estimator = clf_NB  , sampling_strategy = 'auto' ,replacement = False ,random_state = 0).fit(train_X_scaled,train_y)\n",
    "result(bb_clf,train_X_scaled,train_y,test_X_scaled,test_y)\n",
    "\n",
    "# OUTPUT\n",
    "# Accuracy on test set 0.853559961841066\n",
    "# Precision on test set 0.050160702033151566\n",
    "# Recall on test set 0.3816982687551525\n",
    "# F1 score on test set 0.08866900734120652"
   ]
  },
  {
   "cell_type": "markdown",
   "metadata": {},
   "source": [
    "### All data with some feature changed to categorical"
   ]
  },
  {
   "cell_type": "markdown",
   "metadata": {},
   "source": [
    "#### Balance Bagging Classifier"
   ]
  },
  {
   "cell_type": "code",
   "execution_count": 23,
   "metadata": {},
   "outputs": [
    {
     "name": "stdout",
     "output_type": "stream",
     "text": [
      "Confusion matrix\n",
      " [[152512  38823]\n",
      " [  1483   2156]]\n",
      "Accuracy on test set 0.7932750007693333\n",
      "Precision on test set 0.052612313624051346\n",
      "Recall on test set 0.592470458917285\n",
      "F1 score on test set 0.09664261060558518\n",
      "Classification report on test\n",
      "\n",
      "              precision    recall  f1-score   support\n",
      "\n",
      "  not sepsis       0.99      0.80      0.88    191335\n",
      "      sepsis       0.05      0.59      0.10      3639\n",
      "\n",
      "    accuracy                           0.79    194974\n",
      "   macro avg       0.52      0.69      0.49    194974\n",
      "weighted avg       0.97      0.79      0.87    194974\n",
      "\n",
      "Confusion matrix on train set\n",
      " [[1068700  264109]\n",
      " [   7057   17220]]\n",
      "Accuracy on train set 0.8001851024916623\n",
      "Precision on train set 0.061209473605636104\n",
      "Recall on train set 0.7093133418461919\n",
      "F1 score on train set 0.11269412249759493\n",
      "Classification report on train\n",
      "\n",
      "              precision    recall  f1-score   support\n",
      "\n",
      "  not sepsis       0.99      0.80      0.89   1332809\n",
      "      sepsis       0.06      0.71      0.11     24277\n",
      "\n",
      "    accuracy                           0.80   1357086\n",
      "   macro avg       0.53      0.76      0.50   1357086\n",
      "weighted avg       0.98      0.80      0.87   1357086\n",
      "\n"
     ]
    }
   ],
   "source": [
    "# decision tree classifier on best hyperparameter\n",
    "from sklearn.tree import DecisionTreeClassifier\n",
    "clf_DTC = DecisionTreeClassifier(max_depth = 10, min_samples_leaf = 8, class_weight = 'balanced')\n",
    "bb_clf = BalancedBaggingClassifier(base_estimator = clf_DTC  , sampling_strategy = 'auto' ,replacement = False ,random_state = 0).fit(train_X_scaled,train_y)\n",
    "result(bb_clf,train_X_scaled,train_y,test_X_scaled,test_y)\n",
    "\n",
    "# OUTPUT\n",
    "# Accuracy on test set 0.7932750007693333\n",
    "# Precision on test set 0.052612313624051346\n",
    "# Recall on test set 0.592470458917285\n",
    "# F1 score on test set 0.09664261060558518"
   ]
  },
  {
   "cell_type": "code",
   "execution_count": 24,
   "metadata": {},
   "outputs": [
    {
     "name": "stdout",
     "output_type": "stream",
     "text": [
      "Confusion matrix\n",
      " [[ 34165 157170]\n",
      " [   137   3502]]\n",
      "Accuracy on test set 0.1931898612122642\n",
      "Precision on test set 0.02179595698068114\n",
      "Recall on test set 0.9623522945864248\n",
      "F1 score on test set 0.04262648270657472\n",
      "Classification report on test\n",
      "\n",
      "              precision    recall  f1-score   support\n",
      "\n",
      "  not sepsis       1.00      0.18      0.30    191335\n",
      "      sepsis       0.02      0.96      0.04      3639\n",
      "\n",
      "    accuracy                           0.19    194974\n",
      "   macro avg       0.51      0.57      0.17    194974\n",
      "weighted avg       0.98      0.19      0.30    194974\n",
      "\n",
      "Confusion matrix on train set\n",
      " [[ 241674 1091135]\n",
      " [     12   24265]]\n",
      "Accuracy on train set 0.19596326246089046\n",
      "Precision on train set 0.021754527523758293\n",
      "Recall on train set 0.9995057049882605\n",
      "F1 score on train set 0.04258224040671173\n",
      "Classification report on train\n",
      "\n",
      "              precision    recall  f1-score   support\n",
      "\n",
      "  not sepsis       1.00      0.18      0.31   1332809\n",
      "      sepsis       0.02      1.00      0.04     24277\n",
      "\n",
      "    accuracy                           0.20   1357086\n",
      "   macro avg       0.51      0.59      0.17   1357086\n",
      "weighted avg       0.98      0.20      0.30   1357086\n",
      "\n"
     ]
    }
   ],
   "source": [
    "# Random Forest classifier on best hyperparameter\n",
    "from sklearn.ensemble import RandomForestClassifier\n",
    "clf_RF = RandomForestClassifier(n_estimators = 100, max_depth = 25, min_samples_leaf = 4, class_weight = {0: 1, 1: 10})\n",
    "bb_clf = BalancedBaggingClassifier(base_estimator = clf_RF  , sampling_strategy = 'auto' ,replacement = False ,random_state = 0).fit(train_X_scaled,train_y)\n",
    "result(bb_clf,train_X_scaled,train_y,test_X_scaled,test_y)\n",
    "\n",
    "# OUTPUT\n",
    "# Accuracy on test set 0.1931898612122642\n",
    "# Precision on test set 0.02179595698068114\n",
    "# Recall on test set 0.9623522945864248\n",
    "# F1 score on test set 0.04262648270657472"
   ]
  }
 ],
 "metadata": {
  "kernelspec": {
   "display_name": "Python 3",
   "language": "python",
   "name": "python3"
  },
  "language_info": {
   "codemirror_mode": {
    "name": "ipython",
    "version": 3
   },
   "file_extension": ".py",
   "mimetype": "text/x-python",
   "name": "python",
   "nbconvert_exporter": "python",
   "pygments_lexer": "ipython3",
   "version": "3.6.7"
  }
 },
 "nbformat": 4,
 "nbformat_minor": 4
}
